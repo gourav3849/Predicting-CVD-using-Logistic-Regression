{
 "cells": [
  {
   "cell_type": "markdown",
   "metadata": {},
   "source": [
    "<table align=\"center\" width=100%>\n",
    "    <tr>\n",
    "        <td width=\"15%\">\n",
    "            <img src=\"in_class.png\">\n",
    "        </td>\n",
    "        <td>\n",
    "            <div align=\"center\">\n",
    "                <font color=\"#21618C\" size=8px>\n",
    "                    <b> Inclass - Lab <br>(Day 1)\n",
    "                    </b>\n",
    "                </font>\n",
    "            </div>\n",
    "        </td>\n",
    "    </tr>\n",
    "</table>"
   ]
  },
  {
   "cell_type": "markdown",
   "metadata": {},
   "source": [
    "### About the data set (Heart disease data)\n",
    "\n",
    "The dataset contains information about patients. The aim is to find whether or not a patient has cardiovascular disease based on the several factors from the patient profile. <br> Attribute information: \n",
    "\n",
    "**male:** Gender of patient: male(1) or female(0) \n",
    "\n",
    "**age:** Age of patient\n",
    "\n",
    "**education:** Education level of patient: 1 = Some High School; 2 = High School or GED; 3 = Some College or Vocational School; 4 = college\n",
    "\n",
    "**currentSmoker:** Whether the patient is a smoker now: Yes(1) or No(0)\n",
    "\n",
    "**cigsPerDay:** Average number of cigarettes smoked by patient per day\n",
    "\n",
    "**BPMeds:** Whether the patient is on blood pressure medications: Yes(1) or No(0)\n",
    "\n",
    "**prevalentStroke:** If the patient has a history of heart stroke: Yes(1) or No(0)\n",
    "\n",
    "**prevalentHyp:** If the patient has a history of hypertension: Yes(1) or No(0)\n",
    "\n",
    "**diabetes:**  If the patient has a diabetes: Yes(1) or No(0)\n",
    "\n",
    "**totChol:** Average cholesterol levels in mg/dL\n",
    "\n",
    "**sysBP:** Average systolic blood pressure of patient\n",
    "\n",
    "**diaBP:** Average diastolic blood pressure of patient\n",
    "\n",
    "**BMI:** BMI of patient\n",
    "\n",
    "**heartRate:** Avergae heartrate of patient\n",
    "\n",
    "**glucose:** Average blood glucose levels of patient\n",
    "\n",
    "**CVD:** Does the patient have cardiovascular disease: Yes(1) or No(0)"
   ]
  },
  {
   "cell_type": "markdown",
   "metadata": {},
   "source": [
    "## Table of Content\n",
    "\n",
    "1. **[Logistic Regression Model](#logreg)**\n",
    "2. **[Model Evaluation Metrics](#mod_eval)**\n",
    "3. **[Performance Evaluation Metrics](#perf_eval)**\n",
    "4. **[Determining optimal threshold](#opt)**"
   ]
  },
  {
   "cell_type": "markdown",
   "metadata": {},
   "source": [
    "**Import the required libraries**"
   ]
  },
  {
   "cell_type": "code",
   "execution_count": 1,
   "metadata": {},
   "outputs": [],
   "source": [
    "import numpy as np\n",
    "import pandas as pd\n",
    "import matplotlib.pyplot as plt\n",
    "import seaborn as sns\n",
    "\n",
    "from matplotlib.colors import ListedColormap\n",
    "\n",
    "import warnings\n",
    "warnings.filterwarnings(action='ignore')\n",
    "\n",
    "import statsmodels.api as sm\n",
    "\n",
    "from sklearn import metrics\n",
    "from sklearn.metrics import classification_report\n",
    "from sklearn.metrics import cohen_kappa_score\n",
    "from sklearn.metrics import roc_curve\n",
    "\n",
    "from sklearn.preprocessing import StandardScaler\n"
   ]
  },
  {
   "cell_type": "markdown",
   "metadata": {},
   "source": [
    "#### Load the csv file"
   ]
  },
  {
   "cell_type": "code",
   "execution_count": 2,
   "metadata": {},
   "outputs": [
    {
     "data": {
      "text/html": [
       "<div>\n",
       "<style scoped>\n",
       "    .dataframe tbody tr th:only-of-type {\n",
       "        vertical-align: middle;\n",
       "    }\n",
       "\n",
       "    .dataframe tbody tr th {\n",
       "        vertical-align: top;\n",
       "    }\n",
       "\n",
       "    .dataframe thead th {\n",
       "        text-align: right;\n",
       "    }\n",
       "</style>\n",
       "<table border=\"1\" class=\"dataframe\">\n",
       "  <thead>\n",
       "    <tr style=\"text-align: right;\">\n",
       "      <th></th>\n",
       "      <th>male</th>\n",
       "      <th>age</th>\n",
       "      <th>education</th>\n",
       "      <th>currentSmoker</th>\n",
       "      <th>cigsPerDay</th>\n",
       "      <th>BPMeds</th>\n",
       "      <th>prevalentStroke</th>\n",
       "      <th>prevalentHyp</th>\n",
       "      <th>diabetes</th>\n",
       "      <th>totChol</th>\n",
       "      <th>sysBP</th>\n",
       "      <th>diaBP</th>\n",
       "      <th>BMI</th>\n",
       "      <th>heartRate</th>\n",
       "      <th>glucose</th>\n",
       "      <th>CVD</th>\n",
       "    </tr>\n",
       "  </thead>\n",
       "  <tbody>\n",
       "    <tr>\n",
       "      <th>0</th>\n",
       "      <td>1</td>\n",
       "      <td>39</td>\n",
       "      <td>4.0</td>\n",
       "      <td>0</td>\n",
       "      <td>0.0</td>\n",
       "      <td>0.0</td>\n",
       "      <td>0</td>\n",
       "      <td>0</td>\n",
       "      <td>0</td>\n",
       "      <td>195.0</td>\n",
       "      <td>106.0</td>\n",
       "      <td>70.0</td>\n",
       "      <td>26.97</td>\n",
       "      <td>80.0</td>\n",
       "      <td>77.0</td>\n",
       "      <td>0</td>\n",
       "    </tr>\n",
       "    <tr>\n",
       "      <th>1</th>\n",
       "      <td>0</td>\n",
       "      <td>46</td>\n",
       "      <td>2.0</td>\n",
       "      <td>0</td>\n",
       "      <td>0.0</td>\n",
       "      <td>0.0</td>\n",
       "      <td>0</td>\n",
       "      <td>0</td>\n",
       "      <td>0</td>\n",
       "      <td>250.0</td>\n",
       "      <td>121.0</td>\n",
       "      <td>81.0</td>\n",
       "      <td>28.73</td>\n",
       "      <td>95.0</td>\n",
       "      <td>76.0</td>\n",
       "      <td>0</td>\n",
       "    </tr>\n",
       "    <tr>\n",
       "      <th>2</th>\n",
       "      <td>1</td>\n",
       "      <td>48</td>\n",
       "      <td>1.0</td>\n",
       "      <td>1</td>\n",
       "      <td>20.0</td>\n",
       "      <td>0.0</td>\n",
       "      <td>0</td>\n",
       "      <td>0</td>\n",
       "      <td>0</td>\n",
       "      <td>245.0</td>\n",
       "      <td>127.5</td>\n",
       "      <td>80.0</td>\n",
       "      <td>25.34</td>\n",
       "      <td>75.0</td>\n",
       "      <td>70.0</td>\n",
       "      <td>0</td>\n",
       "    </tr>\n",
       "    <tr>\n",
       "      <th>3</th>\n",
       "      <td>0</td>\n",
       "      <td>61</td>\n",
       "      <td>3.0</td>\n",
       "      <td>1</td>\n",
       "      <td>30.0</td>\n",
       "      <td>0.0</td>\n",
       "      <td>0</td>\n",
       "      <td>1</td>\n",
       "      <td>0</td>\n",
       "      <td>225.0</td>\n",
       "      <td>150.0</td>\n",
       "      <td>95.0</td>\n",
       "      <td>28.58</td>\n",
       "      <td>65.0</td>\n",
       "      <td>103.0</td>\n",
       "      <td>1</td>\n",
       "    </tr>\n",
       "    <tr>\n",
       "      <th>4</th>\n",
       "      <td>0</td>\n",
       "      <td>46</td>\n",
       "      <td>3.0</td>\n",
       "      <td>1</td>\n",
       "      <td>23.0</td>\n",
       "      <td>0.0</td>\n",
       "      <td>0</td>\n",
       "      <td>0</td>\n",
       "      <td>0</td>\n",
       "      <td>285.0</td>\n",
       "      <td>130.0</td>\n",
       "      <td>84.0</td>\n",
       "      <td>23.10</td>\n",
       "      <td>85.0</td>\n",
       "      <td>85.0</td>\n",
       "      <td>0</td>\n",
       "    </tr>\n",
       "  </tbody>\n",
       "</table>\n",
       "</div>"
      ],
      "text/plain": [
       "   male  age  education  currentSmoker  cigsPerDay  BPMeds  prevalentStroke  \\\n",
       "0     1   39        4.0              0         0.0     0.0                0   \n",
       "1     0   46        2.0              0         0.0     0.0                0   \n",
       "2     1   48        1.0              1        20.0     0.0                0   \n",
       "3     0   61        3.0              1        30.0     0.0                0   \n",
       "4     0   46        3.0              1        23.0     0.0                0   \n",
       "\n",
       "   prevalentHyp  diabetes  totChol  sysBP  diaBP    BMI  heartRate  glucose  \\\n",
       "0             0         0    195.0  106.0   70.0  26.97       80.0     77.0   \n",
       "1             0         0    250.0  121.0   81.0  28.73       95.0     76.0   \n",
       "2             0         0    245.0  127.5   80.0  25.34       75.0     70.0   \n",
       "3             1         0    225.0  150.0   95.0  28.58       65.0    103.0   \n",
       "4             0         0    285.0  130.0   84.0  23.10       85.0     85.0   \n",
       "\n",
       "   CVD  \n",
       "0    0  \n",
       "1    0  \n",
       "2    0  \n",
       "3    1  \n",
       "4    0  "
      ]
     },
     "execution_count": 2,
     "metadata": {},
     "output_type": "execute_result"
    }
   ],
   "source": [
    "df=pd.read_csv(\"Heart_disease.csv\")\n",
    "df.head()"
   ]
  },
  {
   "cell_type": "code",
   "execution_count": 3,
   "metadata": {},
   "outputs": [
    {
     "name": "stdout",
     "output_type": "stream",
     "text": [
      "<class 'pandas.core.frame.DataFrame'>\n",
      "RangeIndex: 4240 entries, 0 to 4239\n",
      "Data columns (total 16 columns):\n",
      " #   Column           Non-Null Count  Dtype  \n",
      "---  ------           --------------  -----  \n",
      " 0   male             4240 non-null   int64  \n",
      " 1   age              4240 non-null   int64  \n",
      " 2   education        4135 non-null   float64\n",
      " 3   currentSmoker    4240 non-null   int64  \n",
      " 4   cigsPerDay       4211 non-null   float64\n",
      " 5   BPMeds           4187 non-null   float64\n",
      " 6   prevalentStroke  4240 non-null   int64  \n",
      " 7   prevalentHyp     4240 non-null   int64  \n",
      " 8   diabetes         4240 non-null   int64  \n",
      " 9   totChol          4190 non-null   float64\n",
      " 10  sysBP            4240 non-null   float64\n",
      " 11  diaBP            4240 non-null   float64\n",
      " 12  BMI              4221 non-null   float64\n",
      " 13  heartRate        4239 non-null   float64\n",
      " 14  glucose          3852 non-null   float64\n",
      " 15  CVD              4240 non-null   int64  \n",
      "dtypes: float64(9), int64(7)\n",
      "memory usage: 530.1 KB\n"
     ]
    }
   ],
   "source": [
    "df.info()"
   ]
  },
  {
   "cell_type": "code",
   "execution_count": 4,
   "metadata": {},
   "outputs": [],
   "source": [
    "df['male']=df['male'].astype('object')\n",
    "df['currentSmoker']=df['currentSmoker'].astype('object')\n",
    "df['prevalentStroke']=df['prevalentStroke'].astype('object')\n",
    "df['prevalentHyp']=df['prevalentHyp'].astype('object')\n",
    "df['diabetes']=df['diabetes'].astype('object')"
   ]
  },
  {
   "cell_type": "code",
   "execution_count": 5,
   "metadata": {},
   "outputs": [],
   "source": [
    "df['education']=df['education'].astype('object')\n",
    "df['BPMeds']=df['BPMeds'].astype('object')"
   ]
  },
  {
   "cell_type": "code",
   "execution_count": 6,
   "metadata": {},
   "outputs": [
    {
     "name": "stdout",
     "output_type": "stream",
     "text": [
      "<class 'pandas.core.frame.DataFrame'>\n",
      "RangeIndex: 4240 entries, 0 to 4239\n",
      "Data columns (total 16 columns):\n",
      " #   Column           Non-Null Count  Dtype  \n",
      "---  ------           --------------  -----  \n",
      " 0   male             4240 non-null   object \n",
      " 1   age              4240 non-null   int64  \n",
      " 2   education        4135 non-null   object \n",
      " 3   currentSmoker    4240 non-null   object \n",
      " 4   cigsPerDay       4211 non-null   float64\n",
      " 5   BPMeds           4187 non-null   object \n",
      " 6   prevalentStroke  4240 non-null   object \n",
      " 7   prevalentHyp     4240 non-null   object \n",
      " 8   diabetes         4240 non-null   object \n",
      " 9   totChol          4190 non-null   float64\n",
      " 10  sysBP            4240 non-null   float64\n",
      " 11  diaBP            4240 non-null   float64\n",
      " 12  BMI              4221 non-null   float64\n",
      " 13  heartRate        4239 non-null   float64\n",
      " 14  glucose          3852 non-null   float64\n",
      " 15  CVD              4240 non-null   int64  \n",
      "dtypes: float64(7), int64(2), object(7)\n",
      "memory usage: 530.1+ KB\n"
     ]
    }
   ],
   "source": [
    "df.info()"
   ]
  },
  {
   "cell_type": "code",
   "execution_count": 7,
   "metadata": {},
   "outputs": [
    {
     "data": {
      "text/html": [
       "<div>\n",
       "<style scoped>\n",
       "    .dataframe tbody tr th:only-of-type {\n",
       "        vertical-align: middle;\n",
       "    }\n",
       "\n",
       "    .dataframe tbody tr th {\n",
       "        vertical-align: top;\n",
       "    }\n",
       "\n",
       "    .dataframe thead th {\n",
       "        text-align: right;\n",
       "    }\n",
       "</style>\n",
       "<table border=\"1\" class=\"dataframe\">\n",
       "  <thead>\n",
       "    <tr style=\"text-align: right;\">\n",
       "      <th></th>\n",
       "      <th>age</th>\n",
       "      <th>cigsPerDay</th>\n",
       "      <th>totChol</th>\n",
       "      <th>sysBP</th>\n",
       "      <th>diaBP</th>\n",
       "      <th>BMI</th>\n",
       "      <th>heartRate</th>\n",
       "      <th>glucose</th>\n",
       "      <th>CVD</th>\n",
       "    </tr>\n",
       "  </thead>\n",
       "  <tbody>\n",
       "    <tr>\n",
       "      <th>count</th>\n",
       "      <td>4240.000000</td>\n",
       "      <td>4211.000000</td>\n",
       "      <td>4190.000000</td>\n",
       "      <td>4240.000000</td>\n",
       "      <td>4240.000000</td>\n",
       "      <td>4221.000000</td>\n",
       "      <td>4239.000000</td>\n",
       "      <td>3852.000000</td>\n",
       "      <td>4240.000000</td>\n",
       "    </tr>\n",
       "    <tr>\n",
       "      <th>mean</th>\n",
       "      <td>49.580189</td>\n",
       "      <td>9.005937</td>\n",
       "      <td>236.699523</td>\n",
       "      <td>132.354599</td>\n",
       "      <td>82.897759</td>\n",
       "      <td>25.800801</td>\n",
       "      <td>75.878981</td>\n",
       "      <td>81.963655</td>\n",
       "      <td>0.151887</td>\n",
       "    </tr>\n",
       "    <tr>\n",
       "      <th>std</th>\n",
       "      <td>8.572942</td>\n",
       "      <td>11.922462</td>\n",
       "      <td>44.591284</td>\n",
       "      <td>22.033300</td>\n",
       "      <td>11.910394</td>\n",
       "      <td>4.079840</td>\n",
       "      <td>12.025348</td>\n",
       "      <td>23.954335</td>\n",
       "      <td>0.358953</td>\n",
       "    </tr>\n",
       "    <tr>\n",
       "      <th>min</th>\n",
       "      <td>32.000000</td>\n",
       "      <td>0.000000</td>\n",
       "      <td>107.000000</td>\n",
       "      <td>83.500000</td>\n",
       "      <td>48.000000</td>\n",
       "      <td>15.540000</td>\n",
       "      <td>44.000000</td>\n",
       "      <td>40.000000</td>\n",
       "      <td>0.000000</td>\n",
       "    </tr>\n",
       "    <tr>\n",
       "      <th>25%</th>\n",
       "      <td>42.000000</td>\n",
       "      <td>0.000000</td>\n",
       "      <td>206.000000</td>\n",
       "      <td>117.000000</td>\n",
       "      <td>75.000000</td>\n",
       "      <td>23.070000</td>\n",
       "      <td>68.000000</td>\n",
       "      <td>71.000000</td>\n",
       "      <td>0.000000</td>\n",
       "    </tr>\n",
       "    <tr>\n",
       "      <th>50%</th>\n",
       "      <td>49.000000</td>\n",
       "      <td>0.000000</td>\n",
       "      <td>234.000000</td>\n",
       "      <td>128.000000</td>\n",
       "      <td>82.000000</td>\n",
       "      <td>25.400000</td>\n",
       "      <td>75.000000</td>\n",
       "      <td>78.000000</td>\n",
       "      <td>0.000000</td>\n",
       "    </tr>\n",
       "    <tr>\n",
       "      <th>75%</th>\n",
       "      <td>56.000000</td>\n",
       "      <td>20.000000</td>\n",
       "      <td>263.000000</td>\n",
       "      <td>144.000000</td>\n",
       "      <td>90.000000</td>\n",
       "      <td>28.040000</td>\n",
       "      <td>83.000000</td>\n",
       "      <td>87.000000</td>\n",
       "      <td>0.000000</td>\n",
       "    </tr>\n",
       "    <tr>\n",
       "      <th>max</th>\n",
       "      <td>70.000000</td>\n",
       "      <td>70.000000</td>\n",
       "      <td>696.000000</td>\n",
       "      <td>295.000000</td>\n",
       "      <td>142.500000</td>\n",
       "      <td>56.800000</td>\n",
       "      <td>143.000000</td>\n",
       "      <td>394.000000</td>\n",
       "      <td>1.000000</td>\n",
       "    </tr>\n",
       "  </tbody>\n",
       "</table>\n",
       "</div>"
      ],
      "text/plain": [
       "               age   cigsPerDay      totChol        sysBP        diaBP  \\\n",
       "count  4240.000000  4211.000000  4190.000000  4240.000000  4240.000000   \n",
       "mean     49.580189     9.005937   236.699523   132.354599    82.897759   \n",
       "std       8.572942    11.922462    44.591284    22.033300    11.910394   \n",
       "min      32.000000     0.000000   107.000000    83.500000    48.000000   \n",
       "25%      42.000000     0.000000   206.000000   117.000000    75.000000   \n",
       "50%      49.000000     0.000000   234.000000   128.000000    82.000000   \n",
       "75%      56.000000    20.000000   263.000000   144.000000    90.000000   \n",
       "max      70.000000    70.000000   696.000000   295.000000   142.500000   \n",
       "\n",
       "               BMI    heartRate      glucose          CVD  \n",
       "count  4221.000000  4239.000000  3852.000000  4240.000000  \n",
       "mean     25.800801    75.878981    81.963655     0.151887  \n",
       "std       4.079840    12.025348    23.954335     0.358953  \n",
       "min      15.540000    44.000000    40.000000     0.000000  \n",
       "25%      23.070000    68.000000    71.000000     0.000000  \n",
       "50%      25.400000    75.000000    78.000000     0.000000  \n",
       "75%      28.040000    83.000000    87.000000     0.000000  \n",
       "max      56.800000   143.000000   394.000000     1.000000  "
      ]
     },
     "execution_count": 7,
     "metadata": {},
     "output_type": "execute_result"
    }
   ],
   "source": [
    "df.describe()"
   ]
  },
  {
   "cell_type": "code",
   "execution_count": 8,
   "metadata": {},
   "outputs": [
    {
     "data": {
      "text/html": [
       "<div>\n",
       "<style scoped>\n",
       "    .dataframe tbody tr th:only-of-type {\n",
       "        vertical-align: middle;\n",
       "    }\n",
       "\n",
       "    .dataframe tbody tr th {\n",
       "        vertical-align: top;\n",
       "    }\n",
       "\n",
       "    .dataframe thead th {\n",
       "        text-align: right;\n",
       "    }\n",
       "</style>\n",
       "<table border=\"1\" class=\"dataframe\">\n",
       "  <thead>\n",
       "    <tr style=\"text-align: right;\">\n",
       "      <th></th>\n",
       "      <th>male</th>\n",
       "      <th>education</th>\n",
       "      <th>currentSmoker</th>\n",
       "      <th>BPMeds</th>\n",
       "      <th>prevalentStroke</th>\n",
       "      <th>prevalentHyp</th>\n",
       "      <th>diabetes</th>\n",
       "    </tr>\n",
       "  </thead>\n",
       "  <tbody>\n",
       "    <tr>\n",
       "      <th>count</th>\n",
       "      <td>4240</td>\n",
       "      <td>4135.0</td>\n",
       "      <td>4240</td>\n",
       "      <td>4187.0</td>\n",
       "      <td>4240</td>\n",
       "      <td>4240</td>\n",
       "      <td>4240</td>\n",
       "    </tr>\n",
       "    <tr>\n",
       "      <th>unique</th>\n",
       "      <td>2</td>\n",
       "      <td>4.0</td>\n",
       "      <td>2</td>\n",
       "      <td>2.0</td>\n",
       "      <td>2</td>\n",
       "      <td>2</td>\n",
       "      <td>2</td>\n",
       "    </tr>\n",
       "    <tr>\n",
       "      <th>top</th>\n",
       "      <td>0</td>\n",
       "      <td>1.0</td>\n",
       "      <td>0</td>\n",
       "      <td>0.0</td>\n",
       "      <td>0</td>\n",
       "      <td>0</td>\n",
       "      <td>0</td>\n",
       "    </tr>\n",
       "    <tr>\n",
       "      <th>freq</th>\n",
       "      <td>2420</td>\n",
       "      <td>1720.0</td>\n",
       "      <td>2145</td>\n",
       "      <td>4063.0</td>\n",
       "      <td>4215</td>\n",
       "      <td>2923</td>\n",
       "      <td>4131</td>\n",
       "    </tr>\n",
       "  </tbody>\n",
       "</table>\n",
       "</div>"
      ],
      "text/plain": [
       "        male  education  currentSmoker  BPMeds  prevalentStroke  prevalentHyp  \\\n",
       "count   4240     4135.0           4240  4187.0             4240          4240   \n",
       "unique     2        4.0              2     2.0                2             2   \n",
       "top        0        1.0              0     0.0                0             0   \n",
       "freq    2420     1720.0           2145  4063.0             4215          2923   \n",
       "\n",
       "        diabetes  \n",
       "count       4240  \n",
       "unique         2  \n",
       "top            0  \n",
       "freq        4131  "
      ]
     },
     "execution_count": 8,
     "metadata": {},
     "output_type": "execute_result"
    }
   ],
   "source": [
    "df.describe(include=np.object)"
   ]
  },
  {
   "cell_type": "code",
   "execution_count": 9,
   "metadata": {},
   "outputs": [
    {
     "data": {
      "text/plain": [
       "male               0.000000\n",
       "age                0.000000\n",
       "education          2.476415\n",
       "currentSmoker      0.000000\n",
       "cigsPerDay         0.683962\n",
       "BPMeds             1.250000\n",
       "prevalentStroke    0.000000\n",
       "prevalentHyp       0.000000\n",
       "diabetes           0.000000\n",
       "totChol            1.179245\n",
       "sysBP              0.000000\n",
       "diaBP              0.000000\n",
       "BMI                0.448113\n",
       "heartRate          0.023585\n",
       "glucose            9.150943\n",
       "CVD                0.000000\n",
       "dtype: float64"
      ]
     },
     "execution_count": 9,
     "metadata": {},
     "output_type": "execute_result"
    }
   ],
   "source": [
    "df.isnull().sum()/len(df) * 100"
   ]
  },
  {
   "cell_type": "markdown",
   "metadata": {},
   "source": [
    "The columns education, cigsperDay, BPMeds, totChol, BMI, heartRate, glucose have null values in it."
   ]
  },
  {
   "cell_type": "code",
   "execution_count": 10,
   "metadata": {},
   "outputs": [
    {
     "data": {
      "text/plain": [
       "Index(['age', 'cigsPerDay', 'totChol', 'sysBP', 'diaBP', 'BMI', 'heartRate',\n",
       "       'glucose', 'CVD'],\n",
       "      dtype='object')"
      ]
     },
     "execution_count": 10,
     "metadata": {},
     "output_type": "execute_result"
    }
   ],
   "source": [
    "features=df.select_dtypes(np.number).columns\n",
    "features"
   ]
  },
  {
   "cell_type": "code",
   "execution_count": 11,
   "metadata": {},
   "outputs": [
    {
     "data": {
      "image/png": "[encoded data removed]",
      "text/plain": [
       "<Figure size 1080x3600 with 9 Axes>"
      ]
     },
     "metadata": {
      "needs_background": "light"
     },
     "output_type": "display_data"
    }
   ],
   "source": [
    "fig,a=plt.subplots(9,1,figsize=(15,50))\n",
    "for var,subplot in zip(features,a):\n",
    "    figplot=sns.histplot(df[var],ax=subplot)\n",
    "    figplot.set_xlabel(f\"Skewness of {var} is {df[var].skew()}\")\n",
    "plt.show()"
   ]
  },
  {
   "cell_type": "code",
   "execution_count": 12,
   "metadata": {},
   "outputs": [],
   "source": [
    "df['cigsPerDay'].fillna(df['cigsPerDay'].median(),inplace=True)\n",
    "df['totChol'].fillna(df['totChol'].median(),inplace=True)\n",
    "df['BMI'].fillna(df['BMI'].median(),inplace=True)\n",
    "df['heartRate'].fillna(df['heartRate'].mean(),inplace=True)\n",
    "df['glucose'].fillna(df['glucose'].median(),inplace=True)\n",
    "\n",
    "df['education'].fillna(df['education'].mode()[0],inplace=True)\n",
    "df['BPMeds'].fillna(df['BPMeds'].mode()[0],inplace=True)"
   ]
  },
  {
   "cell_type": "code",
   "execution_count": 13,
   "metadata": {},
   "outputs": [
    {
     "data": {
      "text/plain": [
       "male               0.0\n",
       "age                0.0\n",
       "education          0.0\n",
       "currentSmoker      0.0\n",
       "cigsPerDay         0.0\n",
       "BPMeds             0.0\n",
       "prevalentStroke    0.0\n",
       "prevalentHyp       0.0\n",
       "diabetes           0.0\n",
       "totChol            0.0\n",
       "sysBP              0.0\n",
       "diaBP              0.0\n",
       "BMI                0.0\n",
       "heartRate          0.0\n",
       "glucose            0.0\n",
       "CVD                0.0\n",
       "dtype: float64"
      ]
     },
     "execution_count": 13,
     "metadata": {},
     "output_type": "execute_result"
    }
   ],
   "source": [
    "df.isnull().sum()/len(df) * 100"
   ]
  },
  {
   "cell_type": "code",
   "execution_count": 14,
   "metadata": {},
   "outputs": [
    {
     "name": "stdout",
     "output_type": "stream",
     "text": [
      "<class 'pandas.core.frame.DataFrame'>\n",
      "RangeIndex: 4240 entries, 0 to 4239\n",
      "Data columns (total 16 columns):\n",
      " #   Column           Non-Null Count  Dtype  \n",
      "---  ------           --------------  -----  \n",
      " 0   male             4240 non-null   object \n",
      " 1   age              4240 non-null   int64  \n",
      " 2   education        4240 non-null   float64\n",
      " 3   currentSmoker    4240 non-null   object \n",
      " 4   cigsPerDay       4240 non-null   float64\n",
      " 5   BPMeds           4240 non-null   float64\n",
      " 6   prevalentStroke  4240 non-null   object \n",
      " 7   prevalentHyp     4240 non-null   object \n",
      " 8   diabetes         4240 non-null   object \n",
      " 9   totChol          4240 non-null   float64\n",
      " 10  sysBP            4240 non-null   float64\n",
      " 11  diaBP            4240 non-null   float64\n",
      " 12  BMI              4240 non-null   float64\n",
      " 13  heartRate        4240 non-null   float64\n",
      " 14  glucose          4240 non-null   float64\n",
      " 15  CVD              4240 non-null   int64  \n",
      "dtypes: float64(9), int64(2), object(5)\n",
      "memory usage: 530.1+ KB\n"
     ]
    }
   ],
   "source": [
    "df.info()"
   ]
  },
  {
   "cell_type": "code",
   "execution_count": 15,
   "metadata": {},
   "outputs": [],
   "source": [
    "df['education']=df['education'].astype('object')\n",
    "df['BPMeds']=df['BPMeds'].astype('object')"
   ]
  },
  {
   "cell_type": "code",
   "execution_count": 16,
   "metadata": {},
   "outputs": [
    {
     "data": {
      "text/plain": [
       "Index(['age', 'cigsPerDay', 'totChol', 'sysBP', 'diaBP', 'BMI', 'heartRate',\n",
       "       'glucose', 'CVD'],\n",
       "      dtype='object')"
      ]
     },
     "execution_count": 16,
     "metadata": {},
     "output_type": "execute_result"
    }
   ],
   "source": [
    "df_num=df.select_dtypes(np.number)\n",
    "df_num.columns"
   ]
  },
  {
   "cell_type": "code",
   "execution_count": 17,
   "metadata": {},
   "outputs": [
    {
     "data": {
      "text/plain": [
       "Index(['male', 'education', 'currentSmoker', 'BPMeds', 'prevalentStroke',\n",
       "       'prevalentHyp', 'diabetes'],\n",
       "      dtype='object')"
      ]
     },
     "execution_count": 17,
     "metadata": {},
     "output_type": "execute_result"
    }
   ],
   "source": [
    "df_cat=df.select_dtypes(np.object)\n",
    "df_cat.columns"
   ]
  },
  {
   "cell_type": "code",
   "execution_count": 18,
   "metadata": {},
   "outputs": [
    {
     "data": {
      "text/html": [
       "<div>\n",
       "<style scoped>\n",
       "    .dataframe tbody tr th:only-of-type {\n",
       "        vertical-align: middle;\n",
       "    }\n",
       "\n",
       "    .dataframe tbody tr th {\n",
       "        vertical-align: top;\n",
       "    }\n",
       "\n",
       "    .dataframe thead th {\n",
       "        text-align: right;\n",
       "    }\n",
       "</style>\n",
       "<table border=\"1\" class=\"dataframe\">\n",
       "  <thead>\n",
       "    <tr style=\"text-align: right;\">\n",
       "      <th></th>\n",
       "      <th>age</th>\n",
       "      <th>cigsPerDay</th>\n",
       "      <th>totChol</th>\n",
       "      <th>sysBP</th>\n",
       "      <th>diaBP</th>\n",
       "      <th>BMI</th>\n",
       "      <th>heartRate</th>\n",
       "      <th>glucose</th>\n",
       "    </tr>\n",
       "  </thead>\n",
       "  <tbody>\n",
       "    <tr>\n",
       "      <th>0</th>\n",
       "      <td>-1.234283</td>\n",
       "      <td>-0.751412</td>\n",
       "      <td>-0.940086</td>\n",
       "      <td>-1.196267</td>\n",
       "      <td>-1.083027</td>\n",
       "      <td>0.287693</td>\n",
       "      <td>0.342775</td>\n",
       "      <td>-0.201287</td>\n",
       "    </tr>\n",
       "    <tr>\n",
       "      <th>1</th>\n",
       "      <td>-0.417664</td>\n",
       "      <td>-0.751412</td>\n",
       "      <td>0.300797</td>\n",
       "      <td>-0.515399</td>\n",
       "      <td>-0.159355</td>\n",
       "      <td>0.720094</td>\n",
       "      <td>1.590435</td>\n",
       "      <td>-0.245036</td>\n",
       "    </tr>\n",
       "  </tbody>\n",
       "</table>\n",
       "</div>"
      ],
      "text/plain": [
       "        age  cigsPerDay   totChol     sysBP     diaBP       BMI  heartRate  \\\n",
       "0 -1.234283   -0.751412 -0.940086 -1.196267 -1.083027  0.287693   0.342775   \n",
       "1 -0.417664   -0.751412  0.300797 -0.515399 -0.159355  0.720094   1.590435   \n",
       "\n",
       "    glucose  \n",
       "0 -0.201287  \n",
       "1 -0.245036  "
      ]
     },
     "execution_count": 18,
     "metadata": {},
     "output_type": "execute_result"
    }
   ],
   "source": [
    "ss = StandardScaler()\n",
    "df_num_scaled=ss.fit_transform(df_num.drop('CVD',axis=1))\n",
    "df_num_scaled=pd.DataFrame(data=df_num_scaled, columns=df_num.drop('CVD',axis=1).columns)\n",
    "df_num_scaled.head(2)"
   ]
  },
  {
   "cell_type": "code",
   "execution_count": 19,
   "metadata": {},
   "outputs": [
    {
     "data": {
      "text/html": [
       "<div>\n",
       "<style scoped>\n",
       "    .dataframe tbody tr th:only-of-type {\n",
       "        vertical-align: middle;\n",
       "    }\n",
       "\n",
       "    .dataframe tbody tr th {\n",
       "        vertical-align: top;\n",
       "    }\n",
       "\n",
       "    .dataframe thead th {\n",
       "        text-align: right;\n",
       "    }\n",
       "</style>\n",
       "<table border=\"1\" class=\"dataframe\">\n",
       "  <thead>\n",
       "    <tr style=\"text-align: right;\">\n",
       "      <th></th>\n",
       "      <th>male_1</th>\n",
       "      <th>education_2.0</th>\n",
       "      <th>education_3.0</th>\n",
       "      <th>education_4.0</th>\n",
       "      <th>currentSmoker_1</th>\n",
       "      <th>BPMeds_1.0</th>\n",
       "      <th>prevalentStroke_1</th>\n",
       "      <th>prevalentHyp_1</th>\n",
       "      <th>diabetes_1</th>\n",
       "    </tr>\n",
       "  </thead>\n",
       "  <tbody>\n",
       "    <tr>\n",
       "      <th>0</th>\n",
       "      <td>1</td>\n",
       "      <td>0</td>\n",
       "      <td>0</td>\n",
       "      <td>1</td>\n",
       "      <td>0</td>\n",
       "      <td>0</td>\n",
       "      <td>0</td>\n",
       "      <td>0</td>\n",
       "      <td>0</td>\n",
       "    </tr>\n",
       "    <tr>\n",
       "      <th>1</th>\n",
       "      <td>0</td>\n",
       "      <td>1</td>\n",
       "      <td>0</td>\n",
       "      <td>0</td>\n",
       "      <td>0</td>\n",
       "      <td>0</td>\n",
       "      <td>0</td>\n",
       "      <td>0</td>\n",
       "      <td>0</td>\n",
       "    </tr>\n",
       "  </tbody>\n",
       "</table>\n",
       "</div>"
      ],
      "text/plain": [
       "   male_1  education_2.0  education_3.0  education_4.0  currentSmoker_1  \\\n",
       "0       1              0              0              1                0   \n",
       "1       0              1              0              0                0   \n",
       "\n",
       "   BPMeds_1.0  prevalentStroke_1  prevalentHyp_1  diabetes_1  \n",
       "0           0                  0               0           0  \n",
       "1           0                  0               0           0  "
      ]
     },
     "execution_count": 19,
     "metadata": {},
     "output_type": "execute_result"
    }
   ],
   "source": [
    "df_cat_dummy=pd.get_dummies(df_cat,drop_first=True)\n",
    "df_cat_dummy.head(2)"
   ]
  },
  {
   "cell_type": "code",
   "execution_count": 20,
   "metadata": {},
   "outputs": [
    {
     "data": {
      "text/html": [
       "<div>\n",
       "<style scoped>\n",
       "    .dataframe tbody tr th:only-of-type {\n",
       "        vertical-align: middle;\n",
       "    }\n",
       "\n",
       "    .dataframe tbody tr th {\n",
       "        vertical-align: top;\n",
       "    }\n",
       "\n",
       "    .dataframe thead th {\n",
       "        text-align: right;\n",
       "    }\n",
       "</style>\n",
       "<table border=\"1\" class=\"dataframe\">\n",
       "  <thead>\n",
       "    <tr style=\"text-align: right;\">\n",
       "      <th></th>\n",
       "      <th>male_1</th>\n",
       "      <th>education_2.0</th>\n",
       "      <th>education_3.0</th>\n",
       "      <th>education_4.0</th>\n",
       "      <th>currentSmoker_1</th>\n",
       "      <th>BPMeds_1.0</th>\n",
       "      <th>prevalentStroke_1</th>\n",
       "      <th>prevalentHyp_1</th>\n",
       "      <th>diabetes_1</th>\n",
       "      <th>age</th>\n",
       "      <th>cigsPerDay</th>\n",
       "      <th>totChol</th>\n",
       "      <th>sysBP</th>\n",
       "      <th>diaBP</th>\n",
       "      <th>BMI</th>\n",
       "      <th>heartRate</th>\n",
       "      <th>glucose</th>\n",
       "      <th>CVD</th>\n",
       "    </tr>\n",
       "  </thead>\n",
       "  <tbody>\n",
       "    <tr>\n",
       "      <th>0</th>\n",
       "      <td>1</td>\n",
       "      <td>0</td>\n",
       "      <td>0</td>\n",
       "      <td>1</td>\n",
       "      <td>0</td>\n",
       "      <td>0</td>\n",
       "      <td>0</td>\n",
       "      <td>0</td>\n",
       "      <td>0</td>\n",
       "      <td>-1.234283</td>\n",
       "      <td>-0.751412</td>\n",
       "      <td>-0.940086</td>\n",
       "      <td>-1.196267</td>\n",
       "      <td>-1.083027</td>\n",
       "      <td>0.287693</td>\n",
       "      <td>0.342775</td>\n",
       "      <td>-0.201287</td>\n",
       "      <td>0</td>\n",
       "    </tr>\n",
       "    <tr>\n",
       "      <th>1</th>\n",
       "      <td>0</td>\n",
       "      <td>1</td>\n",
       "      <td>0</td>\n",
       "      <td>0</td>\n",
       "      <td>0</td>\n",
       "      <td>0</td>\n",
       "      <td>0</td>\n",
       "      <td>0</td>\n",
       "      <td>0</td>\n",
       "      <td>-0.417664</td>\n",
       "      <td>-0.751412</td>\n",
       "      <td>0.300797</td>\n",
       "      <td>-0.515399</td>\n",
       "      <td>-0.159355</td>\n",
       "      <td>0.720094</td>\n",
       "      <td>1.590435</td>\n",
       "      <td>-0.245036</td>\n",
       "      <td>0</td>\n",
       "    </tr>\n",
       "  </tbody>\n",
       "</table>\n",
       "</div>"
      ],
      "text/plain": [
       "   male_1  education_2.0  education_3.0  education_4.0  currentSmoker_1  \\\n",
       "0       1              0              0              1                0   \n",
       "1       0              1              0              0                0   \n",
       "\n",
       "   BPMeds_1.0  prevalentStroke_1  prevalentHyp_1  diabetes_1       age  \\\n",
       "0           0                  0               0           0 -1.234283   \n",
       "1           0                  0               0           0 -0.417664   \n",
       "\n",
       "   cigsPerDay   totChol     sysBP     diaBP       BMI  heartRate   glucose  \\\n",
       "0   -0.751412 -0.940086 -1.196267 -1.083027  0.287693   0.342775 -0.201287   \n",
       "1   -0.751412  0.300797 -0.515399 -0.159355  0.720094   1.590435 -0.245036   \n",
       "\n",
       "   CVD  \n",
       "0    0  \n",
       "1    0  "
      ]
     },
     "execution_count": 20,
     "metadata": {},
     "output_type": "execute_result"
    }
   ],
   "source": [
    "df1=pd.concat([df_cat_dummy,df_num_scaled,df['CVD']], axis=1)\n",
    "df1.head(2)"
   ]
  },
  {
   "cell_type": "code",
   "execution_count": 21,
   "metadata": {},
   "outputs": [
    {
     "data": {
      "text/plain": [
       "(4240, 18)"
      ]
     },
     "execution_count": 21,
     "metadata": {},
     "output_type": "execute_result"
    }
   ],
   "source": [
    "df1.shape"
   ]
  },
  {
   "cell_type": "code",
   "execution_count": 22,
   "metadata": {},
   "outputs": [
    {
     "data": {
      "text/plain": [
       "0"
      ]
     },
     "execution_count": 22,
     "metadata": {},
     "output_type": "execute_result"
    }
   ],
   "source": [
    "df1.isnull().sum().sum()"
   ]
  },
  {
   "cell_type": "markdown",
   "metadata": {},
   "source": [
    "### Let's begin with some hands-on practice exercises"
   ]
  },
  {
   "cell_type": "markdown",
   "metadata": {},
   "source": [
    "<a id=\"logreg\"> </a>\n",
    "## 1. Logistic regression model"
   ]
  },
  {
   "cell_type": "markdown",
   "metadata": {},
   "source": [
    "## We shall use the heart disease dataset"
   ]
  },
  {
   "cell_type": "markdown",
   "metadata": {
    "collapsed": true
   },
   "source": [
    "<table align=\"left\">\n",
    "    <tr>\n",
    "        <td width=\"6%\">\n",
    "            <img src=\"question_icon.png\">\n",
    "        </td>\n",
    "        <td>\n",
    "            <div align=\"left\", style=\"font-size:120%\">\n",
    "                <font color=\"#21618C\">\n",
    "                    <b>1. Are all the classes of target variable 'CVD' fairly represented by records in the considered dataset ?</b>\n",
    "                </font>\n",
    "            </div>\n",
    "        </td>\n",
    "    </tr>\n",
    "</table>"
   ]
  },
  {
   "cell_type": "code",
   "execution_count": 23,
   "metadata": {},
   "outputs": [
    {
     "data": {
      "text/plain": [
       "0    84.811321\n",
       "1    15.188679\n",
       "Name: CVD, dtype: float64"
      ]
     },
     "execution_count": 23,
     "metadata": {},
     "output_type": "execute_result"
    }
   ],
   "source": [
    "df['CVD'].value_counts(normalize=True)*100"
   ]
  },
  {
   "cell_type": "code",
   "execution_count": 24,
   "metadata": {},
   "outputs": [
    {
     "data": {
      "image/png": "[encoded data removed]",
      "text/plain": [
       "<Figure size 432x288 with 1 Axes>"
      ]
     },
     "metadata": {
      "needs_background": "light"
     },
     "output_type": "display_data"
    }
   ],
   "source": [
    "sns.countplot(x=df['CVD'])\n",
    "plt.text(x=-0.05,y=df['CVD'].value_counts()[0]+1,s=str(round(df['CVD'].value_counts(normalize=True)[0]*100,2))+'%')\n",
    "plt.text(x= 0.95,y=df['CVD'].value_counts()[1]+1,s=str(round(df['CVD'].value_counts(normalize=True)[1]*100,2))+'%')\n",
    "plt.show()"
   ]
  },
  {
   "cell_type": "markdown",
   "metadata": {},
   "source": [
    "Since the spilt of categories in the dataset is 85:15. We can say that the data set is marginally imbalanced but can be used."
   ]
  },
  {
   "cell_type": "markdown",
   "metadata": {
    "collapsed": true
   },
   "source": [
    "<table align=\"left\">\n",
    "    <tr>\n",
    "        <td width=\"6%\">\n",
    "            <img src=\"question_icon.png\">\n",
    "        </td>\n",
    "        <td>\n",
    "            <div align=\"left\", style=\"font-size:120%\">\n",
    "                <font color=\"#21618C\">\n",
    "                    <b>2. Predict whether or not a patient will have cardiovascular disease based on the information about blood pressure of the patient. Columns related to blood pressure are diaBP, sysBP and BPMeds.</b>\n",
    "                </font>\n",
    "            </div>\n",
    "        </td>\n",
    "    </tr>\n",
    "</table>"
   ]
  },
  {
   "cell_type": "code",
   "execution_count": 25,
   "metadata": {},
   "outputs": [
    {
     "data": {
      "text/plain": [
       "Index(['male_1', 'education_2.0', 'education_3.0', 'education_4.0',\n",
       "       'currentSmoker_1', 'BPMeds_1.0', 'prevalentStroke_1', 'prevalentHyp_1',\n",
       "       'diabetes_1', 'age', 'cigsPerDay', 'totChol', 'sysBP', 'diaBP', 'BMI',\n",
       "       'heartRate', 'glucose', 'CVD'],\n",
       "      dtype='object')"
      ]
     },
     "execution_count": 25,
     "metadata": {},
     "output_type": "execute_result"
    }
   ],
   "source": [
    "df1.columns"
   ]
  },
  {
   "cell_type": "code",
   "execution_count": 26,
   "metadata": {},
   "outputs": [],
   "source": [
    "X=df1[['BPMeds_1.0','sysBP','diaBP']]\n",
    "y=df1['CVD']"
   ]
  },
  {
   "cell_type": "code",
   "execution_count": 27,
   "metadata": {},
   "outputs": [],
   "source": [
    "Xc=sm.add_constant(X)"
   ]
  },
  {
   "cell_type": "code",
   "execution_count": 28,
   "metadata": {},
   "outputs": [
    {
     "name": "stdout",
     "output_type": "stream",
     "text": [
      "Optimization terminated successfully.\n",
      "         Current function value: 0.404139\n",
      "         Iterations 6\n"
     ]
    },
    {
     "data": {
      "text/html": [
       "<table class=\"simpletable\">\n",
       "<caption>Logit Regression Results</caption>\n",
       "<tr>\n",
       "  <th>Dep. Variable:</th>          <td>CVD</td>       <th>  No. Observations:  </th>  <td>  4240</td>  \n",
       "</tr>\n",
       "<tr>\n",
       "  <th>Model:</th>                 <td>Logit</td>      <th>  Df Residuals:      </th>  <td>  4236</td>  \n",
       "</tr>\n",
       "<tr>\n",
       "  <th>Method:</th>                 <td>MLE</td>       <th>  Df Model:          </th>  <td>     3</td>  \n",
       "</tr>\n",
       "<tr>\n",
       "  <th>Date:</th>            <td>Tue, 22 Jun 2021</td> <th>  Pseudo R-squ.:     </th>  <td>0.05125</td> \n",
       "</tr>\n",
       "<tr>\n",
       "  <th>Time:</th>                <td>18:05:58</td>     <th>  Log-Likelihood:    </th> <td> -1713.5</td> \n",
       "</tr>\n",
       "<tr>\n",
       "  <th>converged:</th>             <td>True</td>       <th>  LL-Null:           </th> <td> -1806.1</td> \n",
       "</tr>\n",
       "<tr>\n",
       "  <th>Covariance Type:</th>     <td>nonrobust</td>    <th>  LLR p-value:       </th> <td>6.935e-40</td>\n",
       "</tr>\n",
       "</table>\n",
       "<table class=\"simpletable\">\n",
       "<tr>\n",
       "       <td></td>         <th>coef</th>     <th>std err</th>      <th>z</th>      <th>P>|z|</th>  <th>[0.025</th>    <th>0.975]</th>  \n",
       "</tr>\n",
       "<tr>\n",
       "  <th>const</th>      <td>   -1.8258</td> <td>    0.046</td> <td>  -39.319</td> <td> 0.000</td> <td>   -1.917</td> <td>   -1.735</td>\n",
       "</tr>\n",
       "<tr>\n",
       "  <th>BPMeds_1.0</th> <td>    0.3199</td> <td>    0.212</td> <td>    1.509</td> <td> 0.131</td> <td>   -0.096</td> <td>    0.735</td>\n",
       "</tr>\n",
       "<tr>\n",
       "  <th>sysBP</th>      <td>    0.6108</td> <td>    0.064</td> <td>    9.568</td> <td> 0.000</td> <td>    0.486</td> <td>    0.736</td>\n",
       "</tr>\n",
       "<tr>\n",
       "  <th>diaBP</th>      <td>   -0.1288</td> <td>    0.065</td> <td>   -1.989</td> <td> 0.047</td> <td>   -0.256</td> <td>   -0.002</td>\n",
       "</tr>\n",
       "</table>"
      ],
      "text/plain": [
       "<class 'statsmodels.iolib.summary.Summary'>\n",
       "\"\"\"\n",
       "                           Logit Regression Results                           \n",
       "==============================================================================\n",
       "Dep. Variable:                    CVD   No. Observations:                 4240\n",
       "Model:                          Logit   Df Residuals:                     4236\n",
       "Method:                           MLE   Df Model:                            3\n",
       "Date:                Tue, 22 Jun 2021   Pseudo R-squ.:                 0.05125\n",
       "Time:                        18:05:58   Log-Likelihood:                -1713.5\n",
       "converged:                       True   LL-Null:                       -1806.1\n",
       "Covariance Type:            nonrobust   LLR p-value:                 6.935e-40\n",
       "==============================================================================\n",
       "                 coef    std err          z      P>|z|      [0.025      0.975]\n",
       "------------------------------------------------------------------------------\n",
       "const         -1.8258      0.046    -39.319      0.000      -1.917      -1.735\n",
       "BPMeds_1.0     0.3199      0.212      1.509      0.131      -0.096       0.735\n",
       "sysBP          0.6108      0.064      9.568      0.000       0.486       0.736\n",
       "diaBP         -0.1288      0.065     -1.989      0.047      -0.256      -0.002\n",
       "==============================================================================\n",
       "\"\"\""
      ]
     },
     "execution_count": 28,
     "metadata": {},
     "output_type": "execute_result"
    }
   ],
   "source": [
    "logmod=sm.Logit(y,Xc).fit()\n",
    "logmod.summary()"
   ]
  },
  {
   "cell_type": "markdown",
   "metadata": {},
   "source": [
    "Since LLR p value < 0.05 therefore we can say that model is significant or possible. Therefore we can predict if a person will have CVD or not based on the information of Blood pressure but the prediction accuracy will be low. "
   ]
  },
  {
   "cell_type": "markdown",
   "metadata": {
    "collapsed": true
   },
   "source": [
    "<table align=\"left\">\n",
    "    <tr>\n",
    "        <td width=\"6%\">\n",
    "            <img src=\"question_icon.png\">\n",
    "        </td>\n",
    "        <td>\n",
    "            <div align=\"left\", style=\"font-size:120%\">\n",
    "                <font color=\"#21618C\">\n",
    "                    <b>3. Predict whether or not a patient has cardiovascular disease using the categorical variables in the dataset. How does a unit change in each feature influence the odds of a patient having a cardiocascular disease?</b>\n",
    "                </font>\n",
    "            </div>\n",
    "        </td>\n",
    "    </tr>\n",
    "</table>"
   ]
  },
  {
   "cell_type": "code",
   "execution_count": 29,
   "metadata": {},
   "outputs": [],
   "source": [
    "X=df1.iloc[:,0:9]\n",
    "y=df1['CVD']"
   ]
  },
  {
   "cell_type": "code",
   "execution_count": 30,
   "metadata": {},
   "outputs": [],
   "source": [
    "Xc=sm.add_constant(X)"
   ]
  },
  {
   "cell_type": "code",
   "execution_count": 31,
   "metadata": {},
   "outputs": [
    {
     "name": "stdout",
     "output_type": "stream",
     "text": [
      "Optimization terminated successfully.\n",
      "         Current function value: 0.400771\n",
      "         Iterations 6\n"
     ]
    },
    {
     "data": {
      "text/html": [
       "<table class=\"simpletable\">\n",
       "<caption>Logit Regression Results</caption>\n",
       "<tr>\n",
       "  <th>Dep. Variable:</th>          <td>CVD</td>       <th>  No. Observations:  </th>  <td>  4240</td>  \n",
       "</tr>\n",
       "<tr>\n",
       "  <th>Model:</th>                 <td>Logit</td>      <th>  Df Residuals:      </th>  <td>  4230</td>  \n",
       "</tr>\n",
       "<tr>\n",
       "  <th>Method:</th>                 <td>MLE</td>       <th>  Df Model:          </th>  <td>     9</td>  \n",
       "</tr>\n",
       "<tr>\n",
       "  <th>Date:</th>            <td>Tue, 22 Jun 2021</td> <th>  Pseudo R-squ.:     </th>  <td>0.05915</td> \n",
       "</tr>\n",
       "<tr>\n",
       "  <th>Time:</th>                <td>18:05:58</td>     <th>  Log-Likelihood:    </th> <td> -1699.3</td> \n",
       "</tr>\n",
       "<tr>\n",
       "  <th>converged:</th>             <td>True</td>       <th>  LL-Null:           </th> <td> -1806.1</td> \n",
       "</tr>\n",
       "<tr>\n",
       "  <th>Covariance Type:</th>     <td>nonrobust</td>    <th>  LLR p-value:       </th> <td>4.488e-41</td>\n",
       "</tr>\n",
       "</table>\n",
       "<table class=\"simpletable\">\n",
       "<tr>\n",
       "          <td></td>             <th>coef</th>     <th>std err</th>      <th>z</th>      <th>P>|z|</th>  <th>[0.025</th>    <th>0.975]</th>  \n",
       "</tr>\n",
       "<tr>\n",
       "  <th>const</th>             <td>   -2.2460</td> <td>    0.099</td> <td>  -22.678</td> <td> 0.000</td> <td>   -2.440</td> <td>   -2.052</td>\n",
       "</tr>\n",
       "<tr>\n",
       "  <th>male_1</th>            <td>    0.4644</td> <td>    0.091</td> <td>    5.077</td> <td> 0.000</td> <td>    0.285</td> <td>    0.644</td>\n",
       "</tr>\n",
       "<tr>\n",
       "  <th>education_2.0</th>     <td>   -0.4467</td> <td>    0.109</td> <td>   -4.085</td> <td> 0.000</td> <td>   -0.661</td> <td>   -0.232</td>\n",
       "</tr>\n",
       "<tr>\n",
       "  <th>education_3.0</th>     <td>   -0.2876</td> <td>    0.133</td> <td>   -2.164</td> <td> 0.030</td> <td>   -0.548</td> <td>   -0.027</td>\n",
       "</tr>\n",
       "<tr>\n",
       "  <th>education_4.0</th>     <td>   -0.2353</td> <td>    0.147</td> <td>   -1.599</td> <td> 0.110</td> <td>   -0.524</td> <td>    0.053</td>\n",
       "</tr>\n",
       "<tr>\n",
       "  <th>currentSmoker_1</th>   <td>    0.1726</td> <td>    0.091</td> <td>    1.889</td> <td> 0.059</td> <td>   -0.007</td> <td>    0.352</td>\n",
       "</tr>\n",
       "<tr>\n",
       "  <th>BPMeds_1.0</th>        <td>    0.4957</td> <td>    0.210</td> <td>    2.363</td> <td> 0.018</td> <td>    0.084</td> <td>    0.907</td>\n",
       "</tr>\n",
       "<tr>\n",
       "  <th>prevalentStroke_1</th> <td>    1.0361</td> <td>    0.428</td> <td>    2.421</td> <td> 0.015</td> <td>    0.197</td> <td>    1.875</td>\n",
       "</tr>\n",
       "<tr>\n",
       "  <th>prevalentHyp_1</th>    <td>    0.8904</td> <td>    0.092</td> <td>    9.646</td> <td> 0.000</td> <td>    0.709</td> <td>    1.071</td>\n",
       "</tr>\n",
       "<tr>\n",
       "  <th>diabetes_1</th>        <td>    1.0060</td> <td>    0.211</td> <td>    4.762</td> <td> 0.000</td> <td>    0.592</td> <td>    1.420</td>\n",
       "</tr>\n",
       "</table>"
      ],
      "text/plain": [
       "<class 'statsmodels.iolib.summary.Summary'>\n",
       "\"\"\"\n",
       "                           Logit Regression Results                           \n",
       "==============================================================================\n",
       "Dep. Variable:                    CVD   No. Observations:                 4240\n",
       "Model:                          Logit   Df Residuals:                     4230\n",
       "Method:                           MLE   Df Model:                            9\n",
       "Date:                Tue, 22 Jun 2021   Pseudo R-squ.:                 0.05915\n",
       "Time:                        18:05:58   Log-Likelihood:                -1699.3\n",
       "converged:                       True   LL-Null:                       -1806.1\n",
       "Covariance Type:            nonrobust   LLR p-value:                 4.488e-41\n",
       "=====================================================================================\n",
       "                        coef    std err          z      P>|z|      [0.025      0.975]\n",
       "-------------------------------------------------------------------------------------\n",
       "const                -2.2460      0.099    -22.678      0.000      -2.440      -2.052\n",
       "male_1                0.4644      0.091      5.077      0.000       0.285       0.644\n",
       "education_2.0        -0.4467      0.109     -4.085      0.000      -0.661      -0.232\n",
       "education_3.0        -0.2876      0.133     -2.164      0.030      -0.548      -0.027\n",
       "education_4.0        -0.2353      0.147     -1.599      0.110      -0.524       0.053\n",
       "currentSmoker_1       0.1726      0.091      1.889      0.059      -0.007       0.352\n",
       "BPMeds_1.0            0.4957      0.210      2.363      0.018       0.084       0.907\n",
       "prevalentStroke_1     1.0361      0.428      2.421      0.015       0.197       1.875\n",
       "prevalentHyp_1        0.8904      0.092      9.646      0.000       0.709       1.071\n",
       "diabetes_1            1.0060      0.211      4.762      0.000       0.592       1.420\n",
       "=====================================================================================\n",
       "\"\"\""
      ]
     },
     "execution_count": 31,
     "metadata": {},
     "output_type": "execute_result"
    }
   ],
   "source": [
    "logmod=sm.Logit(y,Xc).fit()\n",
    "logmod.summary()"
   ]
  },
  {
   "cell_type": "markdown",
   "metadata": {},
   "source": [
    "Since LLR p value < 0.05, we can say that model is possible."
   ]
  },
  {
   "cell_type": "code",
   "execution_count": 32,
   "metadata": {},
   "outputs": [
    {
     "name": "stdout",
     "output_type": "stream",
     "text": [
      "When the features above are true the odds of having CVD is given by\n"
     ]
    },
    {
     "data": {
      "text/html": [
       "<div>\n",
       "<style scoped>\n",
       "    .dataframe tbody tr th:only-of-type {\n",
       "        vertical-align: middle;\n",
       "    }\n",
       "\n",
       "    .dataframe tbody tr th {\n",
       "        vertical-align: top;\n",
       "    }\n",
       "\n",
       "    .dataframe thead th {\n",
       "        text-align: right;\n",
       "    }\n",
       "</style>\n",
       "<table border=\"1\" class=\"dataframe\">\n",
       "  <thead>\n",
       "    <tr style=\"text-align: right;\">\n",
       "      <th></th>\n",
       "      <th>Odds</th>\n",
       "    </tr>\n",
       "  </thead>\n",
       "  <tbody>\n",
       "    <tr>\n",
       "      <th>const</th>\n",
       "      <td>0.105827</td>\n",
       "    </tr>\n",
       "    <tr>\n",
       "      <th>male_1</th>\n",
       "      <td>1.590985</td>\n",
       "    </tr>\n",
       "    <tr>\n",
       "      <th>education_2.0</th>\n",
       "      <td>0.639709</td>\n",
       "    </tr>\n",
       "    <tr>\n",
       "      <th>education_3.0</th>\n",
       "      <td>0.750057</td>\n",
       "    </tr>\n",
       "    <tr>\n",
       "      <th>education_4.0</th>\n",
       "      <td>0.790348</td>\n",
       "    </tr>\n",
       "    <tr>\n",
       "      <th>currentSmoker_1</th>\n",
       "      <td>1.188435</td>\n",
       "    </tr>\n",
       "    <tr>\n",
       "      <th>BPMeds_1.0</th>\n",
       "      <td>1.641682</td>\n",
       "    </tr>\n",
       "    <tr>\n",
       "      <th>prevalentStroke_1</th>\n",
       "      <td>2.818108</td>\n",
       "    </tr>\n",
       "    <tr>\n",
       "      <th>prevalentHyp_1</th>\n",
       "      <td>2.436160</td>\n",
       "    </tr>\n",
       "    <tr>\n",
       "      <th>diabetes_1</th>\n",
       "      <td>2.734646</td>\n",
       "    </tr>\n",
       "  </tbody>\n",
       "</table>\n",
       "</div>"
      ],
      "text/plain": [
       "                       Odds\n",
       "const              0.105827\n",
       "male_1             1.590985\n",
       "education_2.0      0.639709\n",
       "education_3.0      0.750057\n",
       "education_4.0      0.790348\n",
       "currentSmoker_1    1.188435\n",
       "BPMeds_1.0         1.641682\n",
       "prevalentStroke_1  2.818108\n",
       "prevalentHyp_1     2.436160\n",
       "diabetes_1         2.734646"
      ]
     },
     "execution_count": 32,
     "metadata": {},
     "output_type": "execute_result"
    }
   ],
   "source": [
    "print(\"When the features above are true the odds of having CVD is given by\")\n",
    "odds = pd.DataFrame(np.exp(logmod.params),columns=['Odds'])\n",
    "odds"
   ]
  },
  {
   "cell_type": "markdown",
   "metadata": {
    "collapsed": true
   },
   "source": [
    "<table align=\"left\">\n",
    "    <tr>\n",
    "        <td width=\"6%\">\n",
    "            <img src=\"question_icon.png\">\n",
    "        </td>\n",
    "        <td>\n",
    "            <div align=\"left\", style=\"font-size:120%\">\n",
    "                <font color=\"#21618C\">\n",
    "                    <b>4. Predit if a patient has cardiovascular disease based on whether or not the patient has history of hypertension. Calculate the odds ratio.</b>\n",
    "                </font>\n",
    "            </div>\n",
    "        </td>\n",
    "    </tr>\n",
    "</table>"
   ]
  },
  {
   "cell_type": "code",
   "execution_count": 33,
   "metadata": {},
   "outputs": [
    {
     "data": {
      "text/plain": [
       "Index(['male_1', 'education_2.0', 'education_3.0', 'education_4.0',\n",
       "       'currentSmoker_1', 'BPMeds_1.0', 'prevalentStroke_1', 'prevalentHyp_1',\n",
       "       'diabetes_1', 'age', 'cigsPerDay', 'totChol', 'sysBP', 'diaBP', 'BMI',\n",
       "       'heartRate', 'glucose', 'CVD'],\n",
       "      dtype='object')"
      ]
     },
     "execution_count": 33,
     "metadata": {},
     "output_type": "execute_result"
    }
   ],
   "source": [
    "df1.columns"
   ]
  },
  {
   "cell_type": "code",
   "execution_count": 34,
   "metadata": {},
   "outputs": [],
   "source": [
    "X=df1['prevalentHyp_1']\n",
    "y=df1['CVD']"
   ]
  },
  {
   "cell_type": "code",
   "execution_count": 35,
   "metadata": {},
   "outputs": [],
   "source": [
    "Xc=sm.add_constant(X)"
   ]
  },
  {
   "cell_type": "code",
   "execution_count": 36,
   "metadata": {},
   "outputs": [
    {
     "name": "stdout",
     "output_type": "stream",
     "text": [
      "Optimization terminated successfully.\n",
      "         Current function value: 0.411192\n",
      "         Iterations 6\n"
     ]
    },
    {
     "data": {
      "text/html": [
       "<table class=\"simpletable\">\n",
       "<caption>Logit Regression Results</caption>\n",
       "<tr>\n",
       "  <th>Dep. Variable:</th>          <td>CVD</td>       <th>  No. Observations:  </th>  <td>  4240</td>  \n",
       "</tr>\n",
       "<tr>\n",
       "  <th>Model:</th>                 <td>Logit</td>      <th>  Df Residuals:      </th>  <td>  4238</td>  \n",
       "</tr>\n",
       "<tr>\n",
       "  <th>Method:</th>                 <td>MLE</td>       <th>  Df Model:          </th>  <td>     1</td>  \n",
       "</tr>\n",
       "<tr>\n",
       "  <th>Date:</th>            <td>Tue, 22 Jun 2021</td> <th>  Pseudo R-squ.:     </th>  <td>0.03469</td> \n",
       "</tr>\n",
       "<tr>\n",
       "  <th>Time:</th>                <td>18:05:58</td>     <th>  Log-Likelihood:    </th> <td> -1743.5</td> \n",
       "</tr>\n",
       "<tr>\n",
       "  <th>converged:</th>             <td>True</td>       <th>  LL-Null:           </th> <td> -1806.1</td> \n",
       "</tr>\n",
       "<tr>\n",
       "  <th>Covariance Type:</th>     <td>nonrobust</td>    <th>  LLR p-value:       </th> <td>4.370e-29</td>\n",
       "</tr>\n",
       "</table>\n",
       "<table class=\"simpletable\">\n",
       "<tr>\n",
       "         <td></td>           <th>coef</th>     <th>std err</th>      <th>z</th>      <th>P>|z|</th>  <th>[0.025</th>    <th>0.975]</th>  \n",
       "</tr>\n",
       "<tr>\n",
       "  <th>const</th>          <td>   -2.0996</td> <td>    0.059</td> <td>  -35.395</td> <td> 0.000</td> <td>   -2.216</td> <td>   -1.983</td>\n",
       "</tr>\n",
       "<tr>\n",
       "  <th>prevalentHyp_1</th> <td>    0.9837</td> <td>    0.087</td> <td>   11.281</td> <td> 0.000</td> <td>    0.813</td> <td>    1.155</td>\n",
       "</tr>\n",
       "</table>"
      ],
      "text/plain": [
       "<class 'statsmodels.iolib.summary.Summary'>\n",
       "\"\"\"\n",
       "                           Logit Regression Results                           \n",
       "==============================================================================\n",
       "Dep. Variable:                    CVD   No. Observations:                 4240\n",
       "Model:                          Logit   Df Residuals:                     4238\n",
       "Method:                           MLE   Df Model:                            1\n",
       "Date:                Tue, 22 Jun 2021   Pseudo R-squ.:                 0.03469\n",
       "Time:                        18:05:58   Log-Likelihood:                -1743.5\n",
       "converged:                       True   LL-Null:                       -1806.1\n",
       "Covariance Type:            nonrobust   LLR p-value:                 4.370e-29\n",
       "==================================================================================\n",
       "                     coef    std err          z      P>|z|      [0.025      0.975]\n",
       "----------------------------------------------------------------------------------\n",
       "const             -2.0996      0.059    -35.395      0.000      -2.216      -1.983\n",
       "prevalentHyp_1     0.9837      0.087     11.281      0.000       0.813       1.155\n",
       "==================================================================================\n",
       "\"\"\""
      ]
     },
     "execution_count": 36,
     "metadata": {},
     "output_type": "execute_result"
    }
   ],
   "source": [
    "logmod=sm.Logit(y,Xc).fit()\n",
    "logmod.summary()"
   ]
  },
  {
   "cell_type": "markdown",
   "metadata": {},
   "source": [
    "Since LLR p value < 0.05, therefore model is possible"
   ]
  },
  {
   "cell_type": "code",
   "execution_count": 37,
   "metadata": {},
   "outputs": [
    {
     "data": {
      "text/plain": [
       "const             0.122504\n",
       "prevalentHyp_1    2.674373\n",
       "dtype: float64"
      ]
     },
     "execution_count": 37,
     "metadata": {},
     "output_type": "execute_result"
    }
   ],
   "source": [
    "np.exp(logmod.params)"
   ]
  },
  {
   "cell_type": "markdown",
   "metadata": {},
   "source": [
    "If a person has hypertension histort the odds of having CVD increases by 2.6 times."
   ]
  },
  {
   "cell_type": "markdown",
   "metadata": {},
   "source": [
    "<a id=\"mod_eval\"> </a>\n",
    "## 2. Model Evaluation Metrics"
   ]
  },
  {
   "cell_type": "code",
   "execution_count": 38,
   "metadata": {},
   "outputs": [],
   "source": [
    "from sklearn.model_selection import train_test_split"
   ]
  },
  {
   "cell_type": "markdown",
   "metadata": {
    "collapsed": true
   },
   "source": [
    "<table align=\"left\">\n",
    "    <tr>\n",
    "        <td width=\"6%\">\n",
    "            <img src=\"question_icon.png\">\n",
    "        </td>\n",
    "        <td>\n",
    "            <div align=\"left\", style=\"font-size:120%\">\n",
    "                <font color=\"#21618C\">\n",
    "                    <b>5. Build a full model to predict if a patient will have a cardiovascular disease. Find the value of Mcfadden's R<sup>2</sup>.\n",
    "                </font>\n",
    "            </div>\n",
    "        </td>\n",
    "    </tr>\n",
    "</table>"
   ]
  },
  {
   "cell_type": "code",
   "execution_count": 39,
   "metadata": {},
   "outputs": [],
   "source": [
    "X=df1.drop('CVD',axis=1)\n",
    "y=df1['CVD']"
   ]
  },
  {
   "cell_type": "code",
   "execution_count": 40,
   "metadata": {},
   "outputs": [],
   "source": [
    "Xc=sm.add_constant(X)"
   ]
  },
  {
   "cell_type": "code",
   "execution_count": 41,
   "metadata": {},
   "outputs": [],
   "source": [
    "X_train, X_test, y_train, y_test = train_test_split(Xc, y, test_size=0.2, random_state=1)"
   ]
  },
  {
   "cell_type": "code",
   "execution_count": 42,
   "metadata": {},
   "outputs": [
    {
     "name": "stdout",
     "output_type": "stream",
     "text": [
      "Optimization terminated successfully.\n",
      "         Current function value: 0.378522\n",
      "         Iterations 7\n"
     ]
    },
    {
     "data": {
      "text/html": [
       "<table class=\"simpletable\">\n",
       "<caption>Logit Regression Results</caption>\n",
       "<tr>\n",
       "  <th>Dep. Variable:</th>          <td>CVD</td>       <th>  No. Observations:  </th>  <td>  3392</td>  \n",
       "</tr>\n",
       "<tr>\n",
       "  <th>Model:</th>                 <td>Logit</td>      <th>  Df Residuals:      </th>  <td>  3374</td>  \n",
       "</tr>\n",
       "<tr>\n",
       "  <th>Method:</th>                 <td>MLE</td>       <th>  Df Model:          </th>  <td>    17</td>  \n",
       "</tr>\n",
       "<tr>\n",
       "  <th>Date:</th>            <td>Tue, 22 Jun 2021</td> <th>  Pseudo R-squ.:     </th>  <td>0.1101</td>  \n",
       "</tr>\n",
       "<tr>\n",
       "  <th>Time:</th>                <td>18:05:58</td>     <th>  Log-Likelihood:    </th> <td> -1283.9</td> \n",
       "</tr>\n",
       "<tr>\n",
       "  <th>converged:</th>             <td>True</td>       <th>  LL-Null:           </th> <td> -1442.8</td> \n",
       "</tr>\n",
       "<tr>\n",
       "  <th>Covariance Type:</th>     <td>nonrobust</td>    <th>  LLR p-value:       </th> <td>2.422e-57</td>\n",
       "</tr>\n",
       "</table>\n",
       "<table class=\"simpletable\">\n",
       "<tr>\n",
       "          <td></td>             <th>coef</th>     <th>std err</th>      <th>z</th>      <th>P>|z|</th>  <th>[0.025</th>    <th>0.975]</th>  \n",
       "</tr>\n",
       "<tr>\n",
       "  <th>const</th>             <td>   -2.2602</td> <td>    0.137</td> <td>  -16.453</td> <td> 0.000</td> <td>   -2.529</td> <td>   -1.991</td>\n",
       "</tr>\n",
       "<tr>\n",
       "  <th>male_1</th>            <td>    0.5792</td> <td>    0.113</td> <td>    5.136</td> <td> 0.000</td> <td>    0.358</td> <td>    0.800</td>\n",
       "</tr>\n",
       "<tr>\n",
       "  <th>education_2.0</th>     <td>   -0.2024</td> <td>    0.129</td> <td>   -1.566</td> <td> 0.117</td> <td>   -0.456</td> <td>    0.051</td>\n",
       "</tr>\n",
       "<tr>\n",
       "  <th>education_3.0</th>     <td>   -0.0286</td> <td>    0.155</td> <td>   -0.185</td> <td> 0.853</td> <td>   -0.332</td> <td>    0.274</td>\n",
       "</tr>\n",
       "<tr>\n",
       "  <th>education_4.0</th>     <td>    0.0398</td> <td>    0.170</td> <td>    0.234</td> <td> 0.815</td> <td>   -0.294</td> <td>    0.374</td>\n",
       "</tr>\n",
       "<tr>\n",
       "  <th>currentSmoker_1</th>   <td>    0.0114</td> <td>    0.158</td> <td>    0.072</td> <td> 0.943</td> <td>   -0.299</td> <td>    0.322</td>\n",
       "</tr>\n",
       "<tr>\n",
       "  <th>BPMeds_1.0</th>        <td>    0.3349</td> <td>    0.240</td> <td>    1.394</td> <td> 0.163</td> <td>   -0.136</td> <td>    0.806</td>\n",
       "</tr>\n",
       "<tr>\n",
       "  <th>prevalentStroke_1</th> <td>    0.2920</td> <td>    0.589</td> <td>    0.496</td> <td> 0.620</td> <td>   -0.862</td> <td>    1.446</td>\n",
       "</tr>\n",
       "<tr>\n",
       "  <th>prevalentHyp_1</th>    <td>    0.2391</td> <td>    0.145</td> <td>    1.654</td> <td> 0.098</td> <td>   -0.044</td> <td>    0.522</td>\n",
       "</tr>\n",
       "<tr>\n",
       "  <th>diabetes_1</th>        <td>    0.1800</td> <td>    0.323</td> <td>    0.557</td> <td> 0.577</td> <td>   -0.453</td> <td>    0.813</td>\n",
       "</tr>\n",
       "<tr>\n",
       "  <th>age</th>               <td>    0.4632</td> <td>    0.060</td> <td>    7.661</td> <td> 0.000</td> <td>    0.345</td> <td>    0.582</td>\n",
       "</tr>\n",
       "<tr>\n",
       "  <th>cigsPerDay</th>        <td>    0.2549</td> <td>    0.073</td> <td>    3.480</td> <td> 0.001</td> <td>    0.111</td> <td>    0.398</td>\n",
       "</tr>\n",
       "<tr>\n",
       "  <th>totChol</th>           <td>    0.0879</td> <td>    0.050</td> <td>    1.747</td> <td> 0.081</td> <td>   -0.011</td> <td>    0.186</td>\n",
       "</tr>\n",
       "<tr>\n",
       "  <th>sysBP</th>             <td>    0.3501</td> <td>    0.087</td> <td>    4.007</td> <td> 0.000</td> <td>    0.179</td> <td>    0.521</td>\n",
       "</tr>\n",
       "<tr>\n",
       "  <th>diaBP</th>             <td>   -0.0733</td> <td>    0.080</td> <td>   -0.922</td> <td> 0.357</td> <td>   -0.229</td> <td>    0.083</td>\n",
       "</tr>\n",
       "<tr>\n",
       "  <th>BMI</th>               <td>    0.0186</td> <td>    0.054</td> <td>    0.343</td> <td> 0.731</td> <td>   -0.088</td> <td>    0.125</td>\n",
       "</tr>\n",
       "<tr>\n",
       "  <th>heartRate</th>         <td>   -0.0005</td> <td>    0.052</td> <td>   -0.009</td> <td> 0.993</td> <td>   -0.102</td> <td>    0.101</td>\n",
       "</tr>\n",
       "<tr>\n",
       "  <th>glucose</th>           <td>    0.1628</td> <td>    0.055</td> <td>    2.940</td> <td> 0.003</td> <td>    0.054</td> <td>    0.271</td>\n",
       "</tr>\n",
       "</table>"
      ],
      "text/plain": [
       "<class 'statsmodels.iolib.summary.Summary'>\n",
       "\"\"\"\n",
       "                           Logit Regression Results                           \n",
       "==============================================================================\n",
       "Dep. Variable:                    CVD   No. Observations:                 3392\n",
       "Model:                          Logit   Df Residuals:                     3374\n",
       "Method:                           MLE   Df Model:                           17\n",
       "Date:                Tue, 22 Jun 2021   Pseudo R-squ.:                  0.1101\n",
       "Time:                        18:05:58   Log-Likelihood:                -1283.9\n",
       "converged:                       True   LL-Null:                       -1442.8\n",
       "Covariance Type:            nonrobust   LLR p-value:                 2.422e-57\n",
       "=====================================================================================\n",
       "                        coef    std err          z      P>|z|      [0.025      0.975]\n",
       "-------------------------------------------------------------------------------------\n",
       "const                -2.2602      0.137    -16.453      0.000      -2.529      -1.991\n",
       "male_1                0.5792      0.113      5.136      0.000       0.358       0.800\n",
       "education_2.0        -0.2024      0.129     -1.566      0.117      -0.456       0.051\n",
       "education_3.0        -0.0286      0.155     -0.185      0.853      -0.332       0.274\n",
       "education_4.0         0.0398      0.170      0.234      0.815      -0.294       0.374\n",
       "currentSmoker_1       0.0114      0.158      0.072      0.943      -0.299       0.322\n",
       "BPMeds_1.0            0.3349      0.240      1.394      0.163      -0.136       0.806\n",
       "prevalentStroke_1     0.2920      0.589      0.496      0.620      -0.862       1.446\n",
       "prevalentHyp_1        0.2391      0.145      1.654      0.098      -0.044       0.522\n",
       "diabetes_1            0.1800      0.323      0.557      0.577      -0.453       0.813\n",
       "age                   0.4632      0.060      7.661      0.000       0.345       0.582\n",
       "cigsPerDay            0.2549      0.073      3.480      0.001       0.111       0.398\n",
       "totChol               0.0879      0.050      1.747      0.081      -0.011       0.186\n",
       "sysBP                 0.3501      0.087      4.007      0.000       0.179       0.521\n",
       "diaBP                -0.0733      0.080     -0.922      0.357      -0.229       0.083\n",
       "BMI                   0.0186      0.054      0.343      0.731      -0.088       0.125\n",
       "heartRate            -0.0005      0.052     -0.009      0.993      -0.102       0.101\n",
       "glucose               0.1628      0.055      2.940      0.003       0.054       0.271\n",
       "=====================================================================================\n",
       "\"\"\""
      ]
     },
     "execution_count": 42,
     "metadata": {},
     "output_type": "execute_result"
    }
   ],
   "source": [
    "logmod=sm.Logit(y_train,X_train).fit()\n",
    "logmod.summary()"
   ]
  },
  {
   "cell_type": "code",
   "execution_count": 43,
   "metadata": {},
   "outputs": [
    {
     "name": "stdout",
     "output_type": "stream",
     "text": [
      "Mcfadden R2: 0.11011255488602711\n"
     ]
    }
   ],
   "source": [
    "print(\"Mcfadden R2:\", logmod.prsquared)"
   ]
  },
  {
   "cell_type": "markdown",
   "metadata": {
    "collapsed": true
   },
   "source": [
    "<table align=\"left\">\n",
    "    <tr>\n",
    "        <td width=\"6%\">\n",
    "            <img src=\"question_icon.png\">\n",
    "        </td>\n",
    "        <td>\n",
    "            <div align=\"left\", style=\"font-size:120%\">\n",
    "                <font color=\"#21618C\">\n",
    "                    <b>6. Find the significant variables in the full model when all the variables are considered in prediction of whether or not a patient has cardiovascular disease.\n",
    "                    </b>\n",
    "                </font>\n",
    "            </div>\n",
    "        </td>\n",
    "    </tr>\n",
    "</table>"
   ]
  },
  {
   "cell_type": "code",
   "execution_count": 44,
   "metadata": {},
   "outputs": [
    {
     "data": {
      "text/html": [
       "<div>\n",
       "<style scoped>\n",
       "    .dataframe tbody tr th:only-of-type {\n",
       "        vertical-align: middle;\n",
       "    }\n",
       "\n",
       "    .dataframe tbody tr th {\n",
       "        vertical-align: top;\n",
       "    }\n",
       "\n",
       "    .dataframe thead th {\n",
       "        text-align: right;\n",
       "    }\n",
       "</style>\n",
       "<table border=\"1\" class=\"dataframe\">\n",
       "  <thead>\n",
       "    <tr style=\"text-align: right;\">\n",
       "      <th></th>\n",
       "      <th>P values</th>\n",
       "    </tr>\n",
       "  </thead>\n",
       "  <tbody>\n",
       "    <tr>\n",
       "      <th>const</th>\n",
       "      <td>8.029807e-61</td>\n",
       "    </tr>\n",
       "    <tr>\n",
       "      <th>male_1</th>\n",
       "      <td>2.808050e-07</td>\n",
       "    </tr>\n",
       "    <tr>\n",
       "      <th>age</th>\n",
       "      <td>1.840901e-14</td>\n",
       "    </tr>\n",
       "    <tr>\n",
       "      <th>cigsPerDay</th>\n",
       "      <td>5.014205e-04</td>\n",
       "    </tr>\n",
       "    <tr>\n",
       "      <th>sysBP</th>\n",
       "      <td>6.145079e-05</td>\n",
       "    </tr>\n",
       "    <tr>\n",
       "      <th>glucose</th>\n",
       "      <td>3.280001e-03</td>\n",
       "    </tr>\n",
       "  </tbody>\n",
       "</table>\n",
       "</div>"
      ],
      "text/plain": [
       "                P values\n",
       "const       8.029807e-61\n",
       "male_1      2.808050e-07\n",
       "age         1.840901e-14\n",
       "cigsPerDay  5.014205e-04\n",
       "sysBP       6.145079e-05\n",
       "glucose     3.280001e-03"
      ]
     },
     "execution_count": 44,
     "metadata": {},
     "output_type": "execute_result"
    }
   ],
   "source": [
    "sig=pd.DataFrame(logmod.pvalues, columns=['P values'])\n",
    "sig[sig['P values']<0.05]"
   ]
  },
  {
   "cell_type": "code",
   "execution_count": 45,
   "metadata": {},
   "outputs": [],
   "source": [
    "## Using backward elimination"
   ]
  },
  {
   "cell_type": "code",
   "execution_count": 46,
   "metadata": {},
   "outputs": [
    {
     "name": "stdout",
     "output_type": "stream",
     "text": [
      "Optimization terminated successfully.\n",
      "         Current function value: 0.378522\n",
      "         Iterations 7\n",
      "Features removed:  heartRate\n",
      "Optimization terminated successfully.\n",
      "         Current function value: 0.378522\n",
      "         Iterations 7\n",
      "Features removed:  currentSmoker_1\n",
      "Optimization terminated successfully.\n",
      "         Current function value: 0.378522\n",
      "         Iterations 7\n",
      "Features removed:  education_3.0\n",
      "Optimization terminated successfully.\n",
      "         Current function value: 0.378528\n",
      "         Iterations 7\n",
      "Features removed:  education_4.0\n",
      "Optimization terminated successfully.\n",
      "         Current function value: 0.378539\n",
      "         Iterations 7\n",
      "Features removed:  BMI\n",
      "Optimization terminated successfully.\n",
      "         Current function value: 0.378557\n",
      "         Iterations 7\n",
      "Features removed:  prevalentStroke_1\n",
      "Optimization terminated successfully.\n",
      "         Current function value: 0.378592\n",
      "         Iterations 7\n",
      "Features removed:  diabetes_1\n",
      "Optimization terminated successfully.\n",
      "         Current function value: 0.378640\n",
      "         Iterations 7\n",
      "Features removed:  diaBP\n",
      "Optimization terminated successfully.\n",
      "         Current function value: 0.378757\n",
      "         Iterations 7\n",
      "Features removed:  BPMeds_1.0\n",
      "Optimization terminated successfully.\n",
      "         Current function value: 0.379087\n",
      "         Iterations 7\n",
      "Features removed:  education_2.0\n",
      "Optimization terminated successfully.\n",
      "         Current function value: 0.379524\n",
      "         Iterations 7\n",
      "Features removed:  prevalentHyp_1\n",
      "Optimization terminated successfully.\n",
      "         Current function value: 0.379960\n",
      "         Iterations 7\n",
      "Features removed:  totChol\n",
      "Optimization terminated successfully.\n",
      "         Current function value: 0.380422\n",
      "         Iterations 6\n"
     ]
    },
    {
     "data": {
      "text/plain": [
       "['const', 'male_1', 'age', 'cigsPerDay', 'sysBP', 'glucose']"
      ]
     },
     "execution_count": 46,
     "metadata": {},
     "output_type": "execute_result"
    }
   ],
   "source": [
    "cols=list(Xc.columns)\n",
    "while(len(cols)>0):\n",
    "    X1=X_train[cols]\n",
    "    logmod=sm.Logit(y_train,X1).fit()\n",
    "    pval=logmod.pvalues\n",
    "    pval=pval.drop('const')\n",
    "    maxp=pval.max()\n",
    "    feature=pval.idxmax()\n",
    "    if maxp > 0.05:\n",
    "        cols.remove(feature)\n",
    "        print(\"Features removed: \",feature)\n",
    "    else:\n",
    "        break\n",
    "\n",
    "cols"
   ]
  },
  {
   "cell_type": "markdown",
   "metadata": {
    "collapsed": true
   },
   "source": [
    "<table align=\"left\">\n",
    "    <tr>\n",
    "        <td width=\"6%\">\n",
    "            <img src=\"question_icon.png\">\n",
    "        </td>\n",
    "        <td>\n",
    "            <div align=\"left\", style=\"font-size:120%\">\n",
    "                <font color=\"#21618C\">\n",
    "                    <b>7. How do the coefficients of each feature form the dataset impact the odds of a patient having a cardiovascular disease?\n",
    "                    </b>\n",
    "                </font>\n",
    "            </div>\n",
    "        </td>\n",
    "    </tr>\n",
    "</table>"
   ]
  },
  {
   "cell_type": "code",
   "execution_count": 47,
   "metadata": {},
   "outputs": [
    {
     "name": "stdout",
     "output_type": "stream",
     "text": [
      "Optimization terminated successfully.\n",
      "         Current function value: 0.380422\n",
      "         Iterations 6\n",
      "The odds of having CVD w.r.t the featurs are: \n",
      " const         0.110389\n",
      "male_1        1.756015\n",
      "age           1.652528\n",
      "cigsPerDay    1.291962\n",
      "sysBP         1.492146\n",
      "glucose       1.198581\n",
      "dtype: float64\n"
     ]
    }
   ],
   "source": [
    "logmod=sm.Logit(y_train,X_train[cols]).fit()\n",
    "print(\"The odds of having CVD w.r.t the featurs are: \\n\",np.exp(logmod.params))"
   ]
  },
  {
   "cell_type": "markdown",
   "metadata": {},
   "source": [
    "<a id=\"perf_eval\"> </a>\n",
    "## 3. Performance evaluation metrics"
   ]
  },
  {
   "cell_type": "markdown",
   "metadata": {
    "collapsed": true
   },
   "source": [
    "<table align=\"left\">\n",
    "    <tr>\n",
    "        <td width=\"6%\">\n",
    "            <img src=\"question_icon.png\">\n",
    "        </td>\n",
    "        <td>\n",
    "            <div align=\"left\", style=\"font-size:120%\">\n",
    "                <font color=\"#21618C\">\n",
    "                        <b>8. For the full model, calculate the accuracy manually using the confusion matrix. Consider 0.5 as the probability threshold.</b>\n",
    "                </font>\n",
    "            </div>\n",
    "        </td>\n",
    "    </tr>\n",
    "</table>"
   ]
  },
  {
   "cell_type": "code",
   "execution_count": 48,
   "metadata": {},
   "outputs": [],
   "source": [
    "from sklearn.metrics import confusion_matrix"
   ]
  },
  {
   "cell_type": "code",
   "execution_count": 49,
   "metadata": {},
   "outputs": [
    {
     "name": "stdout",
     "output_type": "stream",
     "text": [
      "Optimization terminated successfully.\n",
      "         Current function value: 0.378522\n",
      "         Iterations 7\n"
     ]
    }
   ],
   "source": [
    "#full model\n",
    "logmod=sm.Logit(y_train,X_train).fit()"
   ]
  },
  {
   "cell_type": "code",
   "execution_count": 50,
   "metadata": {},
   "outputs": [],
   "source": [
    "y_pred_prob=logmod.predict(X_test)\n",
    "y_pred = [0 if x<0.5 else 1 for x in y_pred_prob]"
   ]
  },
  {
   "cell_type": "code",
   "execution_count": 51,
   "metadata": {},
   "outputs": [],
   "source": [
    "cm_mtx=confusion_matrix(y_test,y_pred)"
   ]
  },
  {
   "cell_type": "code",
   "execution_count": 52,
   "metadata": {},
   "outputs": [
    {
     "data": {
      "text/html": [
       "<div>\n",
       "<style scoped>\n",
       "    .dataframe tbody tr th:only-of-type {\n",
       "        vertical-align: middle;\n",
       "    }\n",
       "\n",
       "    .dataframe tbody tr th {\n",
       "        vertical-align: top;\n",
       "    }\n",
       "\n",
       "    .dataframe thead th {\n",
       "        text-align: right;\n",
       "    }\n",
       "</style>\n",
       "<table border=\"1\" class=\"dataframe\">\n",
       "  <thead>\n",
       "    <tr style=\"text-align: right;\">\n",
       "      <th></th>\n",
       "      <th>Predicted 0</th>\n",
       "      <th>Predicted 1</th>\n",
       "    </tr>\n",
       "  </thead>\n",
       "  <tbody>\n",
       "    <tr>\n",
       "      <th>Actual 0</th>\n",
       "      <td>714</td>\n",
       "      <td>4</td>\n",
       "    </tr>\n",
       "    <tr>\n",
       "      <th>Actual 1</th>\n",
       "      <td>124</td>\n",
       "      <td>6</td>\n",
       "    </tr>\n",
       "  </tbody>\n",
       "</table>\n",
       "</div>"
      ],
      "text/plain": [
       "          Predicted 0  Predicted 1\n",
       "Actual 0          714            4\n",
       "Actual 1          124            6"
      ]
     },
     "execution_count": 52,
     "metadata": {},
     "output_type": "execute_result"
    }
   ],
   "source": [
    "cm=pd.DataFrame(cm_mtx, index=['Actual 0','Actual 1'], columns=['Predicted 0','Predicted 1'])\n",
    "cm"
   ]
  },
  {
   "cell_type": "code",
   "execution_count": 53,
   "metadata": {},
   "outputs": [
    {
     "data": {
      "image/png": "[encoded data removed]",
      "text/plain": [
       "<Figure size 432x288 with 1 Axes>"
      ]
     },
     "metadata": {
      "needs_background": "light"
     },
     "output_type": "display_data"
    }
   ],
   "source": [
    "sns.heatmap(cm,annot=True,fmt='d',cbar=False,cmap=ListedColormap(['lightgreen']),linewidths=0.1,annot_kws={'size':15})\n",
    "plt.show()"
   ]
  },
  {
   "cell_type": "code",
   "execution_count": 54,
   "metadata": {},
   "outputs": [],
   "source": [
    "TP=cm.iloc[1,1]\n",
    "FP=cm.iloc[0,1]\n",
    "FN=cm.iloc[1,0]\n",
    "TN=cm.iloc[0,0]"
   ]
  },
  {
   "cell_type": "code",
   "execution_count": 55,
   "metadata": {},
   "outputs": [
    {
     "name": "stdout",
     "output_type": "stream",
     "text": [
      "Accuracy : 0.8490566037735849\n"
     ]
    }
   ],
   "source": [
    "acc=(TP+TN)/(TP+TN+FP+FN)\n",
    "print(\"Accuracy :\",acc)"
   ]
  },
  {
   "cell_type": "markdown",
   "metadata": {
    "collapsed": true
   },
   "source": [
    "<table align=\"left\">\n",
    "    <tr>\n",
    "        <td width=\"6%\">\n",
    "            <img src=\"question_icon.png\">\n",
    "        </td>\n",
    "        <td>\n",
    "            <div align=\"left\", style=\"font-size:120%\">\n",
    "                <font color=\"#21618C\">\n",
    "                    <b>9.  Calculate value of kappa for the full model built in question 5. Consider threshold value as 0.18</b>\n",
    "                </font>\n",
    "            </div>\n",
    "        </td>\n",
    "    </tr>\n",
    "</table>"
   ]
  },
  {
   "cell_type": "code",
   "execution_count": 56,
   "metadata": {},
   "outputs": [],
   "source": [
    "from sklearn.metrics import cohen_kappa_score"
   ]
  },
  {
   "cell_type": "code",
   "execution_count": 57,
   "metadata": {},
   "outputs": [],
   "source": [
    "y_pred = [0 if x<0.18 else 1 for x in y_pred_prob]"
   ]
  },
  {
   "cell_type": "code",
   "execution_count": 58,
   "metadata": {},
   "outputs": [
    {
     "data": {
      "text/plain": [
       "0.24920543632896452"
      ]
     },
     "execution_count": 58,
     "metadata": {},
     "output_type": "execute_result"
    }
   ],
   "source": [
    "cohen_kappa_score(y_test,y_pred)"
   ]
  },
  {
   "cell_type": "markdown",
   "metadata": {
    "collapsed": true
   },
   "source": [
    "<table align=\"left\">\n",
    "    <tr>\n",
    "        <td width=\"6%\">\n",
    "            <img src=\"question_icon.png\">\n",
    "        </td>\n",
    "        <td>\n",
    "            <div align=\"left\", style=\"font-size:120%\">\n",
    "                <font color=\"#21618C\">\n",
    "                    <b>10. Identify the features from the dataset that are involved in multicollinearity. After that, split the updated data using train_test_split.</b>\n",
    "                </font>\n",
    "            </div>\n",
    "        </td>\n",
    "    </tr>\n",
    "</table>"
   ]
  },
  {
   "cell_type": "code",
   "execution_count": 59,
   "metadata": {},
   "outputs": [],
   "source": [
    "from statsmodels.stats.outliers_influence import variance_inflation_factor as vif"
   ]
  },
  {
   "cell_type": "code",
   "execution_count": 60,
   "metadata": {},
   "outputs": [],
   "source": [
    "VIF = [vif(Xc.values,i) for i in range(Xc.shape[1])]"
   ]
  },
  {
   "cell_type": "code",
   "execution_count": 61,
   "metadata": {},
   "outputs": [
    {
     "data": {
      "text/html": [
       "<div>\n",
       "<style scoped>\n",
       "    .dataframe tbody tr th:only-of-type {\n",
       "        vertical-align: middle;\n",
       "    }\n",
       "\n",
       "    .dataframe tbody tr th {\n",
       "        vertical-align: top;\n",
       "    }\n",
       "\n",
       "    .dataframe thead th {\n",
       "        text-align: right;\n",
       "    }\n",
       "</style>\n",
       "<table border=\"1\" class=\"dataframe\">\n",
       "  <thead>\n",
       "    <tr style=\"text-align: right;\">\n",
       "      <th></th>\n",
       "      <th>VIF</th>\n",
       "    </tr>\n",
       "  </thead>\n",
       "  <tbody>\n",
       "    <tr>\n",
       "      <th>const</th>\n",
       "      <td>6.860519</td>\n",
       "    </tr>\n",
       "    <tr>\n",
       "      <th>male_1</th>\n",
       "      <td>1.212729</td>\n",
       "    </tr>\n",
       "    <tr>\n",
       "      <th>education_2.0</th>\n",
       "      <td>1.274973</td>\n",
       "    </tr>\n",
       "    <tr>\n",
       "      <th>education_3.0</th>\n",
       "      <td>1.204366</td>\n",
       "    </tr>\n",
       "    <tr>\n",
       "      <th>education_4.0</th>\n",
       "      <td>1.164403</td>\n",
       "    </tr>\n",
       "    <tr>\n",
       "      <th>currentSmoker_1</th>\n",
       "      <td>2.455588</td>\n",
       "    </tr>\n",
       "    <tr>\n",
       "      <th>BPMeds_1.0</th>\n",
       "      <td>1.101298</td>\n",
       "    </tr>\n",
       "    <tr>\n",
       "      <th>prevalentStroke_1</th>\n",
       "      <td>1.019169</td>\n",
       "    </tr>\n",
       "    <tr>\n",
       "      <th>prevalentHyp_1</th>\n",
       "      <td>2.053425</td>\n",
       "    </tr>\n",
       "    <tr>\n",
       "      <th>diabetes_1</th>\n",
       "      <td>1.589691</td>\n",
       "    </tr>\n",
       "    <tr>\n",
       "      <th>age</th>\n",
       "      <td>1.410513</td>\n",
       "    </tr>\n",
       "    <tr>\n",
       "      <th>cigsPerDay</th>\n",
       "      <td>2.574291</td>\n",
       "    </tr>\n",
       "    <tr>\n",
       "      <th>totChol</th>\n",
       "      <td>1.107627</td>\n",
       "    </tr>\n",
       "    <tr>\n",
       "      <th>sysBP</th>\n",
       "      <td>3.737717</td>\n",
       "    </tr>\n",
       "    <tr>\n",
       "      <th>diaBP</th>\n",
       "      <td>2.964519</td>\n",
       "    </tr>\n",
       "    <tr>\n",
       "      <th>BMI</th>\n",
       "      <td>1.242571</td>\n",
       "    </tr>\n",
       "    <tr>\n",
       "      <th>heartRate</th>\n",
       "      <td>1.097356</td>\n",
       "    </tr>\n",
       "    <tr>\n",
       "      <th>glucose</th>\n",
       "      <td>1.612007</td>\n",
       "    </tr>\n",
       "  </tbody>\n",
       "</table>\n",
       "</div>"
      ],
      "text/plain": [
       "                        VIF\n",
       "const              6.860519\n",
       "male_1             1.212729\n",
       "education_2.0      1.274973\n",
       "education_3.0      1.204366\n",
       "education_4.0      1.164403\n",
       "currentSmoker_1    2.455588\n",
       "BPMeds_1.0         1.101298\n",
       "prevalentStroke_1  1.019169\n",
       "prevalentHyp_1     2.053425\n",
       "diabetes_1         1.589691\n",
       "age                1.410513\n",
       "cigsPerDay         2.574291\n",
       "totChol            1.107627\n",
       "sysBP              3.737717\n",
       "diaBP              2.964519\n",
       "BMI                1.242571\n",
       "heartRate          1.097356\n",
       "glucose            1.612007"
      ]
     },
     "execution_count": 61,
     "metadata": {},
     "output_type": "execute_result"
    }
   ],
   "source": [
    "pd.DataFrame(VIF, index=Xc.columns, columns=['VIF'])"
   ]
  },
  {
   "cell_type": "markdown",
   "metadata": {},
   "source": [
    "Since all the values have VIF < 10, we can say there is no multicollinearity present."
   ]
  },
  {
   "cell_type": "code",
   "execution_count": 62,
   "metadata": {},
   "outputs": [],
   "source": [
    "X_train, X_test, y_train, y_test = train_test_split(Xc, y, test_size=0.2, random_state=1)"
   ]
  },
  {
   "cell_type": "markdown",
   "metadata": {
    "collapsed": true
   },
   "source": [
    "<table align=\"left\">\n",
    "    <tr>\n",
    "        <td width=\"6%\">\n",
    "            <img src=\"question_icon.png\">\n",
    "        </td>\n",
    "        <td>\n",
    "            <div align=\"left\", style=\"font-size:120%\">\n",
    "                <font color=\"#21618C\">\n",
    "                    <b>11. Use the data obtained from Q10 and identify 5 features that contribute most in the prediction of target variable.<br></b>\n",
    "                </font>\n",
    "            </div>\n",
    "        </td>\n",
    "    </tr>\n",
    "</table>"
   ]
  },
  {
   "cell_type": "code",
   "execution_count": 63,
   "metadata": {},
   "outputs": [],
   "source": [
    "from sklearn.linear_model import LogisticRegression\n",
    "from sklearn.feature_selection import RFE"
   ]
  },
  {
   "cell_type": "code",
   "execution_count": 64,
   "metadata": {},
   "outputs": [],
   "source": [
    "logreg=LogisticRegression()\n",
    "rfe=RFE(estimator=logreg, n_features_to_select=5)"
   ]
  },
  {
   "cell_type": "code",
   "execution_count": 65,
   "metadata": {},
   "outputs": [
    {
     "data": {
      "text/plain": [
       "RFE(estimator=LogisticRegression(), n_features_to_select=5)"
      ]
     },
     "execution_count": 65,
     "metadata": {},
     "output_type": "execute_result"
    }
   ],
   "source": [
    "rfe.fit(X_train.iloc[:,1:],y_train)"
   ]
  },
  {
   "cell_type": "code",
   "execution_count": 66,
   "metadata": {},
   "outputs": [
    {
     "data": {
      "text/html": [
       "<div>\n",
       "<style scoped>\n",
       "    .dataframe tbody tr th:only-of-type {\n",
       "        vertical-align: middle;\n",
       "    }\n",
       "\n",
       "    .dataframe tbody tr th {\n",
       "        vertical-align: top;\n",
       "    }\n",
       "\n",
       "    .dataframe thead th {\n",
       "        text-align: right;\n",
       "    }\n",
       "</style>\n",
       "<table border=\"1\" class=\"dataframe\">\n",
       "  <thead>\n",
       "    <tr style=\"text-align: right;\">\n",
       "      <th></th>\n",
       "      <th>Rank</th>\n",
       "    </tr>\n",
       "  </thead>\n",
       "  <tbody>\n",
       "    <tr>\n",
       "      <th>male_1</th>\n",
       "      <td>1</td>\n",
       "    </tr>\n",
       "    <tr>\n",
       "      <th>sysBP</th>\n",
       "      <td>1</td>\n",
       "    </tr>\n",
       "    <tr>\n",
       "      <th>age</th>\n",
       "      <td>1</td>\n",
       "    </tr>\n",
       "    <tr>\n",
       "      <th>BPMeds_1.0</th>\n",
       "      <td>1</td>\n",
       "    </tr>\n",
       "    <tr>\n",
       "      <th>diabetes_1</th>\n",
       "      <td>1</td>\n",
       "    </tr>\n",
       "  </tbody>\n",
       "</table>\n",
       "</div>"
      ],
      "text/plain": [
       "            Rank\n",
       "male_1         1\n",
       "sysBP          1\n",
       "age            1\n",
       "BPMeds_1.0     1\n",
       "diabetes_1     1"
      ]
     },
     "execution_count": 66,
     "metadata": {},
     "output_type": "execute_result"
    }
   ],
   "source": [
    "rfe_feature=pd.DataFrame(rfe.ranking_, index=X_train.iloc[:,1:].columns,columns=['Rank']).sort_values('Rank',ascending=True)\n",
    "rfe_feature[rfe_feature['Rank']==1]"
   ]
  },
  {
   "cell_type": "markdown",
   "metadata": {
    "collapsed": true
   },
   "source": [
    "<table align=\"left\">\n",
    "    <tr>\n",
    "        <td width=\"6%\">\n",
    "            <img src=\"question_icon.png\">\n",
    "        </td>\n",
    "        <td>\n",
    "            <div align=\"left\", style=\"font-size:120%\">\n",
    "                <font color=\"#21618C\">\n",
    "                    <b>12. Build a model using the features obtained in question 11. For the model find: \n",
    "                        <ol>                       \n",
    "                         <li>Accuracy</li>\n",
    "                        <li>F<sub>1</sub> score</li>\n",
    "                        </ol>\n",
    "                        </b>\n",
    "                </font>\n",
    "            </div>\n",
    "        </td>\n",
    "    </tr>\n",
    "</table>"
   ]
  },
  {
   "cell_type": "code",
   "execution_count": 67,
   "metadata": {},
   "outputs": [],
   "source": [
    "from sklearn.metrics import classification_report"
   ]
  },
  {
   "cell_type": "code",
   "execution_count": 68,
   "metadata": {},
   "outputs": [
    {
     "data": {
      "text/plain": [
       "['male_1', 'sysBP', 'age', 'BPMeds_1.0', 'diabetes_1']"
      ]
     },
     "execution_count": 68,
     "metadata": {},
     "output_type": "execute_result"
    }
   ],
   "source": [
    "cols=rfe_feature[rfe_feature['Rank']==1].index\n",
    "cols.tolist()"
   ]
  },
  {
   "cell_type": "code",
   "execution_count": 69,
   "metadata": {},
   "outputs": [
    {
     "name": "stdout",
     "output_type": "stream",
     "text": [
      "Optimization terminated successfully.\n",
      "         Current function value: 0.588080\n",
      "         Iterations 5\n"
     ]
    }
   ],
   "source": [
    "logmod=sm.Logit(y_train,X_train[cols]).fit()"
   ]
  },
  {
   "cell_type": "code",
   "execution_count": 70,
   "metadata": {},
   "outputs": [],
   "source": [
    "y_pred_prob=logmod.predict(X_test[cols])\n",
    "y_pred=[0 if x<0.5 else 1 for x in y_pred_prob]"
   ]
  },
  {
   "cell_type": "code",
   "execution_count": 71,
   "metadata": {},
   "outputs": [
    {
     "name": "stdout",
     "output_type": "stream",
     "text": [
      "              precision    recall  f1-score   support\n",
      "\n",
      "           0       0.87      0.78      0.82       718\n",
      "           1       0.23      0.36      0.28       130\n",
      "\n",
      "    accuracy                           0.72       848\n",
      "   macro avg       0.55      0.57      0.55       848\n",
      "weighted avg       0.77      0.72      0.74       848\n",
      "\n"
     ]
    }
   ],
   "source": [
    "rep=classification_report(y_test,y_pred)\n",
    "print(rep)"
   ]
  },
  {
   "cell_type": "code",
   "execution_count": 72,
   "metadata": {},
   "outputs": [
    {
     "data": {
      "text/plain": [
       "array([[560, 158],\n",
       "       [ 83,  47]], dtype=int64)"
      ]
     },
     "execution_count": 72,
     "metadata": {},
     "output_type": "execute_result"
    }
   ],
   "source": [
    "cm=confusion_matrix(y_test,y_pred)\n",
    "cm"
   ]
  },
  {
   "cell_type": "code",
   "execution_count": 73,
   "metadata": {},
   "outputs": [
    {
     "name": "stdout",
     "output_type": "stream",
     "text": [
      "Accuracy : 0.7158018867924528\n",
      "precision : 0.22926829268292684\n",
      "recall : 0.36153846153846153\n",
      "f1_score : 0.28059701492537314\n"
     ]
    }
   ],
   "source": [
    "TP=cm[1,1]\n",
    "TN=cm[0,0]\n",
    "FP=cm[0,1]\n",
    "FN=cm[1,0]\n",
    "\n",
    "accuracy=(TP+TN)/(TP+FP+FN+TN)\n",
    "precision = TP/(TP+FP)\n",
    "recall = TP/(TP+FN)\n",
    "f1_score=(2*(precision*recall))/(precision+recall)\n",
    "\n",
    "print(\"Accuracy :\",accuracy)\n",
    "print(\"precision :\",precision)\n",
    "print(\"recall :\",recall)\n",
    "print(\"f1_score :\",f1_score)\n"
   ]
  },
  {
   "cell_type": "markdown",
   "metadata": {
    "collapsed": true
   },
   "source": [
    "<table align=\"left\">\n",
    "    <tr>\n",
    "        <td width=\"6%\">\n",
    "            <img src=\"question_icon.png\">\n",
    "        </td>\n",
    "        <td>\n",
    "            <div align=\"left\", style=\"font-size:120%\">\n",
    "                <font color=\"#21618C\">\n",
    "                    <b>13. Compare the full model in question 5 and the model built in question 12 using their ROC curves. </b>\n",
    "                </font>\n",
    "            </div>\n",
    "        </td>\n",
    "    </tr>\n",
    "</table>"
   ]
  },
  {
   "cell_type": "code",
   "execution_count": 74,
   "metadata": {},
   "outputs": [
    {
     "name": "stdout",
     "output_type": "stream",
     "text": [
      "Optimization terminated successfully.\n",
      "         Current function value: 0.378522\n",
      "         Iterations 7\n",
      "Optimization terminated successfully.\n",
      "         Current function value: 0.588080\n",
      "         Iterations 5\n"
     ]
    }
   ],
   "source": [
    "logmod_5=sm.Logit(y_train,X_train).fit()\n",
    "logmod_12=sm.Logit(y_train,X_train[cols]).fit()"
   ]
  },
  {
   "cell_type": "code",
   "execution_count": 75,
   "metadata": {},
   "outputs": [],
   "source": [
    "y_prob5=logmod_5.predict(X_test)"
   ]
  },
  {
   "cell_type": "code",
   "execution_count": 76,
   "metadata": {},
   "outputs": [],
   "source": [
    "y_prob12=logmod_12.predict(X_test[cols])"
   ]
  },
  {
   "cell_type": "code",
   "execution_count": 77,
   "metadata": {},
   "outputs": [
    {
     "data": {
      "text/plain": [
       "Text(0.5, 0, 'Model with best 5 features')"
      ]
     },
     "execution_count": 77,
     "metadata": {},
     "output_type": "execute_result"
    },
    {
     "data": {
      "image/png": "[encoded data removed]",
      "text/plain": [
       "<Figure size 1296x432 with 2 Axes>"
      ]
     },
     "metadata": {
      "needs_background": "light"
     },
     "output_type": "display_data"
    }
   ],
   "source": [
    "plt.figure(figsize=(18,6))\n",
    "\n",
    "plt.subplot(1,2,1)\n",
    "fpr,tpr,threshold=roc_curve(y_test,y_prob5)\n",
    "plt.plot(fpr,tpr)\n",
    "plt.xlim([0,1])\n",
    "plt.ylim([0,1])\n",
    "plt.plot([0,1],[0,1],'r--')\n",
    "plt.xlabel(\"Full Model\",fontdict={'size':15})\n",
    "\n",
    "plt.subplot(1,2,2)\n",
    "fpr,tpr,threshold=roc_curve(y_test,y_prob12)\n",
    "plt.plot(fpr,tpr)\n",
    "plt.xlim([0,1])\n",
    "plt.ylim([0,1])\n",
    "plt.plot([0,1],[0,1],'g--')\n",
    "plt.xlabel(\"Model with best 5 features\",fontdict={'size':15})"
   ]
  },
  {
   "cell_type": "markdown",
   "metadata": {
    "collapsed": true
   },
   "source": [
    "<table align=\"left\">\n",
    "    <tr>\n",
    "        <td width=\"6%\">\n",
    "            <img src=\"question_icon.png\">\n",
    "        </td>\n",
    "        <td>\n",
    "            <div align=\"left\", style=\"font-size:120%\">\n",
    "                <font color=\"#21618C\">\n",
    "                    <b>14. Build a logistic regression model using information about heart rate of the patients. Compute the AUC score.</b>\n",
    "                </font>\n",
    "            </div>\n",
    "        </td>\n",
    "    </tr>\n",
    "</table>"
   ]
  },
  {
   "cell_type": "code",
   "execution_count": 92,
   "metadata": {},
   "outputs": [],
   "source": [
    "from sklearn.metrics import roc_auc_score"
   ]
  },
  {
   "cell_type": "code",
   "execution_count": 93,
   "metadata": {},
   "outputs": [
    {
     "name": "stdout",
     "output_type": "stream",
     "text": [
      "Optimization terminated successfully.\n",
      "         Current function value: 0.693054\n",
      "         Iterations 3\n"
     ]
    }
   ],
   "source": [
    "logmod=sm.Logit(y_train,X_train['heartRate']).fit()"
   ]
  },
  {
   "cell_type": "code",
   "execution_count": 94,
   "metadata": {},
   "outputs": [],
   "source": [
    "y_prob=logmod.predict(X_test['heartRate'])\n"
   ]
  },
  {
   "cell_type": "code",
   "execution_count": 95,
   "metadata": {},
   "outputs": [
    {
     "data": {
      "text/plain": [
       "0.4763445468180844"
      ]
     },
     "execution_count": 95,
     "metadata": {},
     "output_type": "execute_result"
    }
   ],
   "source": [
    "roc_auc_score(y_test,y_prob)"
   ]
  },
  {
   "cell_type": "markdown",
   "metadata": {
    "collapsed": true
   },
   "source": [
    "<table align=\"left\">\n",
    "    <tr>\n",
    "        <td width=\"6%\">\n",
    "            <img src=\"question_icon.png\">\n",
    "        </td>\n",
    "        <td>\n",
    "            <div align=\"left\", style=\"font-size:120%\">\n",
    "                <font color=\"#21618C\">\n",
    "                    <b>15. Calculate the cross entropy for the model built in question 14.</b>\n",
    "                </font>\n",
    "            </div>\n",
    "        </td>\n",
    "    </tr>\n",
    "</table>"
   ]
  },
  {
   "cell_type": "code",
   "execution_count": 97,
   "metadata": {},
   "outputs": [],
   "source": [
    "from sklearn.metrics import log_loss"
   ]
  },
  {
   "cell_type": "code",
   "execution_count": 98,
   "metadata": {},
   "outputs": [],
   "source": [
    "y_pred=[0 if x<0.5 else 1 for x in y_prob]"
   ]
  },
  {
   "cell_type": "code",
   "execution_count": 101,
   "metadata": {},
   "outputs": [
    {
     "name": "stdout",
     "output_type": "stream",
     "text": [
      "Cross entropy from the above model is 14.948065591742047\n"
     ]
    }
   ],
   "source": [
    "print('Cross entropy from the above model is', log_loss(y_test,y_pred))"
   ]
  },
  {
   "cell_type": "markdown",
   "metadata": {
    "collapsed": true
   },
   "source": [
    "<table align=\"left\">\n",
    "    <tr>\n",
    "        <td width=\"6%\">\n",
    "            <img src=\"question_icon.png\">\n",
    "        </td>\n",
    "        <td>\n",
    "            <div align=\"left\", style=\"font-size:120%\">\n",
    "                <font color=\"#21618C\">\n",
    "                    <b>16. Compare the model built in question 14 to the full model built in question 5.</b>\n",
    "                </font>\n",
    "            </div>\n",
    "        </td>\n",
    "    </tr>\n",
    "</table>"
   ]
  },
  {
   "cell_type": "code",
   "execution_count": 102,
   "metadata": {},
   "outputs": [
    {
     "name": "stdout",
     "output_type": "stream",
     "text": [
      "The AUC score of full model 0.7412899078637241\n"
     ]
    }
   ],
   "source": [
    "print(\"The AUC score of full model\", roc_auc_score(y_test,y_prob5))"
   ]
  },
  {
   "cell_type": "code",
   "execution_count": 103,
   "metadata": {},
   "outputs": [
    {
     "name": "stdout",
     "output_type": "stream",
     "text": [
      "The AUC score of model in question 14 is 0.4763445468180844\n"
     ]
    }
   ],
   "source": [
    "print(\"The AUC score of model in question 14 is\", roc_auc_score(y_test,y_prob))"
   ]
  },
  {
   "cell_type": "code",
   "execution_count": 104,
   "metadata": {},
   "outputs": [
    {
     "data": {
      "text/html": [
       "<table class=\"simpletable\">\n",
       "<caption>Logit Regression Results</caption>\n",
       "<tr>\n",
       "  <th>Dep. Variable:</th>          <td>CVD</td>       <th>  No. Observations:  </th>  <td>  3392</td>  \n",
       "</tr>\n",
       "<tr>\n",
       "  <th>Model:</th>                 <td>Logit</td>      <th>  Df Residuals:      </th>  <td>  3374</td>  \n",
       "</tr>\n",
       "<tr>\n",
       "  <th>Method:</th>                 <td>MLE</td>       <th>  Df Model:          </th>  <td>    17</td>  \n",
       "</tr>\n",
       "<tr>\n",
       "  <th>Date:</th>            <td>Tue, 22 Jun 2021</td> <th>  Pseudo R-squ.:     </th>  <td>0.1101</td>  \n",
       "</tr>\n",
       "<tr>\n",
       "  <th>Time:</th>                <td>19:30:46</td>     <th>  Log-Likelihood:    </th> <td> -1283.9</td> \n",
       "</tr>\n",
       "<tr>\n",
       "  <th>converged:</th>             <td>True</td>       <th>  LL-Null:           </th> <td> -1442.8</td> \n",
       "</tr>\n",
       "<tr>\n",
       "  <th>Covariance Type:</th>     <td>nonrobust</td>    <th>  LLR p-value:       </th> <td>2.422e-57</td>\n",
       "</tr>\n",
       "</table>\n",
       "<table class=\"simpletable\">\n",
       "<tr>\n",
       "          <td></td>             <th>coef</th>     <th>std err</th>      <th>z</th>      <th>P>|z|</th>  <th>[0.025</th>    <th>0.975]</th>  \n",
       "</tr>\n",
       "<tr>\n",
       "  <th>const</th>             <td>   -2.2602</td> <td>    0.137</td> <td>  -16.453</td> <td> 0.000</td> <td>   -2.529</td> <td>   -1.991</td>\n",
       "</tr>\n",
       "<tr>\n",
       "  <th>male_1</th>            <td>    0.5792</td> <td>    0.113</td> <td>    5.136</td> <td> 0.000</td> <td>    0.358</td> <td>    0.800</td>\n",
       "</tr>\n",
       "<tr>\n",
       "  <th>education_2.0</th>     <td>   -0.2024</td> <td>    0.129</td> <td>   -1.566</td> <td> 0.117</td> <td>   -0.456</td> <td>    0.051</td>\n",
       "</tr>\n",
       "<tr>\n",
       "  <th>education_3.0</th>     <td>   -0.0286</td> <td>    0.155</td> <td>   -0.185</td> <td> 0.853</td> <td>   -0.332</td> <td>    0.274</td>\n",
       "</tr>\n",
       "<tr>\n",
       "  <th>education_4.0</th>     <td>    0.0398</td> <td>    0.170</td> <td>    0.234</td> <td> 0.815</td> <td>   -0.294</td> <td>    0.374</td>\n",
       "</tr>\n",
       "<tr>\n",
       "  <th>currentSmoker_1</th>   <td>    0.0114</td> <td>    0.158</td> <td>    0.072</td> <td> 0.943</td> <td>   -0.299</td> <td>    0.322</td>\n",
       "</tr>\n",
       "<tr>\n",
       "  <th>BPMeds_1.0</th>        <td>    0.3349</td> <td>    0.240</td> <td>    1.394</td> <td> 0.163</td> <td>   -0.136</td> <td>    0.806</td>\n",
       "</tr>\n",
       "<tr>\n",
       "  <th>prevalentStroke_1</th> <td>    0.2920</td> <td>    0.589</td> <td>    0.496</td> <td> 0.620</td> <td>   -0.862</td> <td>    1.446</td>\n",
       "</tr>\n",
       "<tr>\n",
       "  <th>prevalentHyp_1</th>    <td>    0.2391</td> <td>    0.145</td> <td>    1.654</td> <td> 0.098</td> <td>   -0.044</td> <td>    0.522</td>\n",
       "</tr>\n",
       "<tr>\n",
       "  <th>diabetes_1</th>        <td>    0.1800</td> <td>    0.323</td> <td>    0.557</td> <td> 0.577</td> <td>   -0.453</td> <td>    0.813</td>\n",
       "</tr>\n",
       "<tr>\n",
       "  <th>age</th>               <td>    0.4632</td> <td>    0.060</td> <td>    7.661</td> <td> 0.000</td> <td>    0.345</td> <td>    0.582</td>\n",
       "</tr>\n",
       "<tr>\n",
       "  <th>cigsPerDay</th>        <td>    0.2549</td> <td>    0.073</td> <td>    3.480</td> <td> 0.001</td> <td>    0.111</td> <td>    0.398</td>\n",
       "</tr>\n",
       "<tr>\n",
       "  <th>totChol</th>           <td>    0.0879</td> <td>    0.050</td> <td>    1.747</td> <td> 0.081</td> <td>   -0.011</td> <td>    0.186</td>\n",
       "</tr>\n",
       "<tr>\n",
       "  <th>sysBP</th>             <td>    0.3501</td> <td>    0.087</td> <td>    4.007</td> <td> 0.000</td> <td>    0.179</td> <td>    0.521</td>\n",
       "</tr>\n",
       "<tr>\n",
       "  <th>diaBP</th>             <td>   -0.0733</td> <td>    0.080</td> <td>   -0.922</td> <td> 0.357</td> <td>   -0.229</td> <td>    0.083</td>\n",
       "</tr>\n",
       "<tr>\n",
       "  <th>BMI</th>               <td>    0.0186</td> <td>    0.054</td> <td>    0.343</td> <td> 0.731</td> <td>   -0.088</td> <td>    0.125</td>\n",
       "</tr>\n",
       "<tr>\n",
       "  <th>heartRate</th>         <td>   -0.0005</td> <td>    0.052</td> <td>   -0.009</td> <td> 0.993</td> <td>   -0.102</td> <td>    0.101</td>\n",
       "</tr>\n",
       "<tr>\n",
       "  <th>glucose</th>           <td>    0.1628</td> <td>    0.055</td> <td>    2.940</td> <td> 0.003</td> <td>    0.054</td> <td>    0.271</td>\n",
       "</tr>\n",
       "</table>"
      ],
      "text/plain": [
       "<class 'statsmodels.iolib.summary.Summary'>\n",
       "\"\"\"\n",
       "                           Logit Regression Results                           \n",
       "==============================================================================\n",
       "Dep. Variable:                    CVD   No. Observations:                 3392\n",
       "Model:                          Logit   Df Residuals:                     3374\n",
       "Method:                           MLE   Df Model:                           17\n",
       "Date:                Tue, 22 Jun 2021   Pseudo R-squ.:                  0.1101\n",
       "Time:                        19:30:46   Log-Likelihood:                -1283.9\n",
       "converged:                       True   LL-Null:                       -1442.8\n",
       "Covariance Type:            nonrobust   LLR p-value:                 2.422e-57\n",
       "=====================================================================================\n",
       "                        coef    std err          z      P>|z|      [0.025      0.975]\n",
       "-------------------------------------------------------------------------------------\n",
       "const                -2.2602      0.137    -16.453      0.000      -2.529      -1.991\n",
       "male_1                0.5792      0.113      5.136      0.000       0.358       0.800\n",
       "education_2.0        -0.2024      0.129     -1.566      0.117      -0.456       0.051\n",
       "education_3.0        -0.0286      0.155     -0.185      0.853      -0.332       0.274\n",
       "education_4.0         0.0398      0.170      0.234      0.815      -0.294       0.374\n",
       "currentSmoker_1       0.0114      0.158      0.072      0.943      -0.299       0.322\n",
       "BPMeds_1.0            0.3349      0.240      1.394      0.163      -0.136       0.806\n",
       "prevalentStroke_1     0.2920      0.589      0.496      0.620      -0.862       1.446\n",
       "prevalentHyp_1        0.2391      0.145      1.654      0.098      -0.044       0.522\n",
       "diabetes_1            0.1800      0.323      0.557      0.577      -0.453       0.813\n",
       "age                   0.4632      0.060      7.661      0.000       0.345       0.582\n",
       "cigsPerDay            0.2549      0.073      3.480      0.001       0.111       0.398\n",
       "totChol               0.0879      0.050      1.747      0.081      -0.011       0.186\n",
       "sysBP                 0.3501      0.087      4.007      0.000       0.179       0.521\n",
       "diaBP                -0.0733      0.080     -0.922      0.357      -0.229       0.083\n",
       "BMI                   0.0186      0.054      0.343      0.731      -0.088       0.125\n",
       "heartRate            -0.0005      0.052     -0.009      0.993      -0.102       0.101\n",
       "glucose               0.1628      0.055      2.940      0.003       0.054       0.271\n",
       "=====================================================================================\n",
       "\"\"\""
      ]
     },
     "execution_count": 104,
     "metadata": {},
     "output_type": "execute_result"
    }
   ],
   "source": [
    "logmod_5.summary()"
   ]
  },
  {
   "cell_type": "code",
   "execution_count": 105,
   "metadata": {},
   "outputs": [
    {
     "data": {
      "text/html": [
       "<table class=\"simpletable\">\n",
       "<caption>Logit Regression Results</caption>\n",
       "<tr>\n",
       "  <th>Dep. Variable:</th>          <td>CVD</td>       <th>  No. Observations:  </th>  <td>  3392</td> \n",
       "</tr>\n",
       "<tr>\n",
       "  <th>Model:</th>                 <td>Logit</td>      <th>  Df Residuals:      </th>  <td>  3391</td> \n",
       "</tr>\n",
       "<tr>\n",
       "  <th>Method:</th>                 <td>MLE</td>       <th>  Df Model:          </th>  <td>     0</td> \n",
       "</tr>\n",
       "<tr>\n",
       "  <th>Date:</th>            <td>Tue, 22 Jun 2021</td> <th>  Pseudo R-squ.:     </th>  <td>-0.6293</td>\n",
       "</tr>\n",
       "<tr>\n",
       "  <th>Time:</th>                <td>19:31:13</td>     <th>  Log-Likelihood:    </th> <td> -2350.8</td>\n",
       "</tr>\n",
       "<tr>\n",
       "  <th>converged:</th>             <td>True</td>       <th>  LL-Null:           </th> <td> -1442.8</td>\n",
       "</tr>\n",
       "<tr>\n",
       "  <th>Covariance Type:</th>     <td>nonrobust</td>    <th>  LLR p-value:       </th>  <td>   nan</td> \n",
       "</tr>\n",
       "</table>\n",
       "<table class=\"simpletable\">\n",
       "<tr>\n",
       "      <td></td>         <th>coef</th>     <th>std err</th>      <th>z</th>      <th>P>|z|</th>  <th>[0.025</th>    <th>0.975]</th>  \n",
       "</tr>\n",
       "<tr>\n",
       "  <th>heartRate</th> <td>    0.0273</td> <td>    0.034</td> <td>    0.796</td> <td> 0.426</td> <td>   -0.040</td> <td>    0.094</td>\n",
       "</tr>\n",
       "</table>"
      ],
      "text/plain": [
       "<class 'statsmodels.iolib.summary.Summary'>\n",
       "\"\"\"\n",
       "                           Logit Regression Results                           \n",
       "==============================================================================\n",
       "Dep. Variable:                    CVD   No. Observations:                 3392\n",
       "Model:                          Logit   Df Residuals:                     3391\n",
       "Method:                           MLE   Df Model:                            0\n",
       "Date:                Tue, 22 Jun 2021   Pseudo R-squ.:                 -0.6293\n",
       "Time:                        19:31:13   Log-Likelihood:                -2350.8\n",
       "converged:                       True   LL-Null:                       -1442.8\n",
       "Covariance Type:            nonrobust   LLR p-value:                       nan\n",
       "==============================================================================\n",
       "                 coef    std err          z      P>|z|      [0.025      0.975]\n",
       "------------------------------------------------------------------------------\n",
       "heartRate      0.0273      0.034      0.796      0.426      -0.040       0.094\n",
       "==============================================================================\n",
       "\"\"\""
      ]
     },
     "execution_count": 105,
     "metadata": {},
     "output_type": "execute_result"
    }
   ],
   "source": [
    "logmod.summary()"
   ]
  },
  {
   "cell_type": "markdown",
   "metadata": {
    "collapsed": true
   },
   "source": [
    "<table align=\"left\">\n",
    "    <tr>\n",
    "        <td width=\"6%\">\n",
    "            <img src=\"question_icon.png\">\n",
    "        </td>\n",
    "        <td>\n",
    "            <div align=\"left\", style=\"font-size:120%\">\n",
    "                <font color=\"#21618C\">\n",
    "                    <b>17. What is the cross entropy for the full model? Use the full model in Q5.</b>\n",
    "                </font>\n",
    "            </div>\n",
    "        </td>\n",
    "    </tr>\n",
    "</table>"
   ]
  },
  {
   "cell_type": "code",
   "execution_count": 106,
   "metadata": {},
   "outputs": [],
   "source": [
    "y_pred5=[0 if x<0.5 else 1 for x in y_prob5]"
   ]
  },
  {
   "cell_type": "code",
   "execution_count": 107,
   "metadata": {},
   "outputs": [
    {
     "name": "stdout",
     "output_type": "stream",
     "text": [
      "Cross entropy from the above model is 5.213403982238548\n"
     ]
    }
   ],
   "source": [
    "print('Cross entropy from the above model is', log_loss(y_test,y_pred5))"
   ]
  },
  {
   "cell_type": "markdown",
   "metadata": {
    "collapsed": true
   },
   "source": [
    "<table align=\"left\">\n",
    "    <tr>\n",
    "        <td width=\"6%\">\n",
    "            <img src=\"question_icon.png\">\n",
    "        </td>\n",
    "        <td>\n",
    "            <div align=\"left\", style=\"font-size:120%\">\n",
    "                <font color=\"#21618C\">\n",
    "                    <b>18. Predict whether a patient has cardiovascular disease based on smoking habits of the patient. For the model find the following:<br> <ol type = \"a\">\n",
    "                        <li> Precision </li>\n",
    "                        <li> Recall</li>   \n",
    "                        <li> F<sub>1</sub> score </li>\n",
    "                        </ol>\n",
    "                    </b>\n",
    "                </font>\n",
    "            </div>\n",
    "        </td>\n",
    "    </tr>\n",
    "</table>"
   ]
  },
  {
   "cell_type": "code",
   "execution_count": 84,
   "metadata": {},
   "outputs": [
    {
     "data": {
      "text/plain": [
       "Index(['male_1', 'education_2.0', 'education_3.0', 'education_4.0',\n",
       "       'currentSmoker_1', 'BPMeds_1.0', 'prevalentStroke_1', 'prevalentHyp_1',\n",
       "       'diabetes_1', 'age', 'cigsPerDay', 'totChol', 'sysBP', 'diaBP', 'BMI',\n",
       "       'heartRate', 'glucose'],\n",
       "      dtype='object')"
      ]
     },
     "execution_count": 84,
     "metadata": {},
     "output_type": "execute_result"
    }
   ],
   "source": [
    "X.columns"
   ]
  },
  {
   "cell_type": "code",
   "execution_count": 85,
   "metadata": {},
   "outputs": [
    {
     "name": "stdout",
     "output_type": "stream",
     "text": [
      "Optimization terminated successfully.\n",
      "         Current function value: 0.478792\n",
      "         Iterations 6\n"
     ]
    },
    {
     "data": {
      "text/html": [
       "<table class=\"simpletable\">\n",
       "<caption>Logit Regression Results</caption>\n",
       "<tr>\n",
       "  <th>Dep. Variable:</th>          <td>CVD</td>       <th>  No. Observations:  </th>  <td>  3392</td> \n",
       "</tr>\n",
       "<tr>\n",
       "  <th>Model:</th>                 <td>Logit</td>      <th>  Df Residuals:      </th>  <td>  3390</td> \n",
       "</tr>\n",
       "<tr>\n",
       "  <th>Method:</th>                 <td>MLE</td>       <th>  Df Model:          </th>  <td>     1</td> \n",
       "</tr>\n",
       "<tr>\n",
       "  <th>Date:</th>            <td>Tue, 22 Jun 2021</td> <th>  Pseudo R-squ.:     </th>  <td>-0.1256</td>\n",
       "</tr>\n",
       "<tr>\n",
       "  <th>Time:</th>                <td>18:06:02</td>     <th>  Log-Likelihood:    </th> <td> -1624.1</td>\n",
       "</tr>\n",
       "<tr>\n",
       "  <th>converged:</th>             <td>True</td>       <th>  LL-Null:           </th> <td> -1442.8</td>\n",
       "</tr>\n",
       "<tr>\n",
       "  <th>Covariance Type:</th>     <td>nonrobust</td>    <th>  LLR p-value:       </th>  <td> 1.000</td> \n",
       "</tr>\n",
       "</table>\n",
       "<table class=\"simpletable\">\n",
       "<tr>\n",
       "         <td></td>            <th>coef</th>     <th>std err</th>      <th>z</th>      <th>P>|z|</th>  <th>[0.025</th>    <th>0.975]</th>  \n",
       "</tr>\n",
       "<tr>\n",
       "  <th>currentSmoker_1</th> <td>   -2.9928</td> <td>    0.103</td> <td>  -29.170</td> <td> 0.000</td> <td>   -3.194</td> <td>   -2.792</td>\n",
       "</tr>\n",
       "<tr>\n",
       "  <th>cigsPerDay</th>      <td>    1.2426</td> <td>    0.054</td> <td>   22.803</td> <td> 0.000</td> <td>    1.136</td> <td>    1.349</td>\n",
       "</tr>\n",
       "</table>"
      ],
      "text/plain": [
       "<class 'statsmodels.iolib.summary.Summary'>\n",
       "\"\"\"\n",
       "                           Logit Regression Results                           \n",
       "==============================================================================\n",
       "Dep. Variable:                    CVD   No. Observations:                 3392\n",
       "Model:                          Logit   Df Residuals:                     3390\n",
       "Method:                           MLE   Df Model:                            1\n",
       "Date:                Tue, 22 Jun 2021   Pseudo R-squ.:                 -0.1256\n",
       "Time:                        18:06:02   Log-Likelihood:                -1624.1\n",
       "converged:                       True   LL-Null:                       -1442.8\n",
       "Covariance Type:            nonrobust   LLR p-value:                     1.000\n",
       "===================================================================================\n",
       "                      coef    std err          z      P>|z|      [0.025      0.975]\n",
       "-----------------------------------------------------------------------------------\n",
       "currentSmoker_1    -2.9928      0.103    -29.170      0.000      -3.194      -2.792\n",
       "cigsPerDay          1.2426      0.054     22.803      0.000       1.136       1.349\n",
       "===================================================================================\n",
       "\"\"\""
      ]
     },
     "execution_count": 85,
     "metadata": {},
     "output_type": "execute_result"
    }
   ],
   "source": [
    "logmod=sm.Logit(y_train,X_train[['currentSmoker_1','cigsPerDay']]).fit()\n",
    "logmod.summary()"
   ]
  },
  {
   "cell_type": "code",
   "execution_count": 86,
   "metadata": {},
   "outputs": [],
   "source": [
    "y_prob=logmod.predict(X_test[['currentSmoker_1','cigsPerDay']])\n",
    "y_pred=[0 if x<0.5 else 1 for x in y_prob]"
   ]
  },
  {
   "cell_type": "code",
   "execution_count": 87,
   "metadata": {},
   "outputs": [
    {
     "name": "stdout",
     "output_type": "stream",
     "text": [
      "              precision    recall  f1-score   support\n",
      "\n",
      "           0       0.85      0.97      0.91       718\n",
      "           1       0.19      0.04      0.06       130\n",
      "\n",
      "    accuracy                           0.83       848\n",
      "   macro avg       0.52      0.50      0.48       848\n",
      "weighted avg       0.75      0.83      0.78       848\n",
      "\n"
     ]
    }
   ],
   "source": [
    "print(classification_report(y_test,y_pred))"
   ]
  },
  {
   "cell_type": "markdown",
   "metadata": {},
   "source": [
    "<a id=\"opt\"> </a>\n",
    "## 4. Determining optimal threshold"
   ]
  },
  {
   "cell_type": "markdown",
   "metadata": {
    "collapsed": true
   },
   "source": [
    "<table align=\"left\">\n",
    "    <tr>\n",
    "        <td width=\"6%\">\n",
    "            <img src=\"question_icon.png\">\n",
    "        </td>\n",
    "        <td>\n",
    "            <div align=\"left\", style=\"font-size:120%\">\n",
    "                <font color=\"#21618C\">\n",
    "                    <b>19. Obtain the optimal value threshold for the full model using the Youden's index.</b>\n",
    "                </font>\n",
    "            </div>\n",
    "        </td>\n",
    "    </tr>\n",
    "</table>"
   ]
  },
  {
   "cell_type": "code",
   "execution_count": 88,
   "metadata": {},
   "outputs": [],
   "source": [
    "fpr,tpr,threshold=roc_curve(y_test,y_prob5)"
   ]
  },
  {
   "cell_type": "code",
   "execution_count": 89,
   "metadata": {},
   "outputs": [],
   "source": [
    "youden=pd.DataFrame({'fpr':fpr,'tpr':tpr,'threshold':threshold})"
   ]
  },
  {
   "cell_type": "code",
   "execution_count": 90,
   "metadata": {},
   "outputs": [
    {
     "data": {
      "text/html": [
       "<div>\n",
       "<style scoped>\n",
       "    .dataframe tbody tr th:only-of-type {\n",
       "        vertical-align: middle;\n",
       "    }\n",
       "\n",
       "    .dataframe tbody tr th {\n",
       "        vertical-align: top;\n",
       "    }\n",
       "\n",
       "    .dataframe thead th {\n",
       "        text-align: right;\n",
       "    }\n",
       "</style>\n",
       "<table border=\"1\" class=\"dataframe\">\n",
       "  <thead>\n",
       "    <tr style=\"text-align: right;\">\n",
       "      <th></th>\n",
       "      <th>fpr</th>\n",
       "      <th>tpr</th>\n",
       "      <th>threshold</th>\n",
       "      <th>Difference</th>\n",
       "    </tr>\n",
       "  </thead>\n",
       "  <tbody>\n",
       "    <tr>\n",
       "      <th>0</th>\n",
       "      <td>0.378830</td>\n",
       "      <td>0.746154</td>\n",
       "      <td>0.138863</td>\n",
       "      <td>0.367324</td>\n",
       "    </tr>\n",
       "    <tr>\n",
       "      <th>1</th>\n",
       "      <td>0.389972</td>\n",
       "      <td>0.753846</td>\n",
       "      <td>0.134783</td>\n",
       "      <td>0.363874</td>\n",
       "    </tr>\n",
       "    <tr>\n",
       "      <th>2</th>\n",
       "      <td>0.376045</td>\n",
       "      <td>0.738462</td>\n",
       "      <td>0.139545</td>\n",
       "      <td>0.362417</td>\n",
       "    </tr>\n",
       "    <tr>\n",
       "      <th>3</th>\n",
       "      <td>0.292479</td>\n",
       "      <td>0.653846</td>\n",
       "      <td>0.165840</td>\n",
       "      <td>0.361367</td>\n",
       "    </tr>\n",
       "    <tr>\n",
       "      <th>4</th>\n",
       "      <td>0.246518</td>\n",
       "      <td>0.607692</td>\n",
       "      <td>0.183250</td>\n",
       "      <td>0.361174</td>\n",
       "    </tr>\n",
       "  </tbody>\n",
       "</table>\n",
       "</div>"
      ],
      "text/plain": [
       "        fpr       tpr  threshold  Difference\n",
       "0  0.378830  0.746154   0.138863    0.367324\n",
       "1  0.389972  0.753846   0.134783    0.363874\n",
       "2  0.376045  0.738462   0.139545    0.362417\n",
       "3  0.292479  0.653846   0.165840    0.361367\n",
       "4  0.246518  0.607692   0.183250    0.361174"
      ]
     },
     "execution_count": 90,
     "metadata": {},
     "output_type": "execute_result"
    }
   ],
   "source": [
    "youden['Difference']=youden['tpr']-youden['fpr']\n",
    "table=youden.sort_values(by='Difference',ascending=False).reset_index(drop=True)\n",
    "table.head()"
   ]
  },
  {
   "cell_type": "markdown",
   "metadata": {},
   "source": [
    "So as per the youden's index criteria the best threshold value is 0.138863"
   ]
  },
  {
   "cell_type": "markdown",
   "metadata": {
    "collapsed": true
   },
   "source": [
    "<table align=\"left\">\n",
    "    <tr>\n",
    "        <td width=\"6%\">\n",
    "            <img src=\"question_icon.png\">\n",
    "        </td>\n",
    "        <td>\n",
    "            <div align=\"left\", style=\"font-size:120%\">\n",
    "                <font color=\"#21618C\">\n",
    "                    <b>20. Consider the costs of false negatives and false positives as 3 and 1.3 respectively to obtain the optimal cut-off probability for which the total cost will be minimum.</b>\n",
    "                </font>\n",
    "            </div>\n",
    "        </td>\n",
    "    </tr>\n",
    "</table>"
   ]
  },
  {
   "cell_type": "code",
   "execution_count": 130,
   "metadata": {},
   "outputs": [],
   "source": [
    "df_cost_table=pd.DataFrame(columns=['Total_Cost','cutoff'])"
   ]
  },
  {
   "cell_type": "code",
   "execution_count": 131,
   "metadata": {},
   "outputs": [],
   "source": [
    "def calculate(y_t,y_p,c_1,c_2):\n",
    "    cm=confusion_matrix(y_t,y_p)\n",
    "    cm_array=np.array(cm)\n",
    "    return cm_array[1,0]*c_1+cm_array[0,1]*c_2"
   ]
  },
  {
   "cell_type": "code",
   "execution_count": 133,
   "metadata": {},
   "outputs": [],
   "source": [
    "j=0\n",
    "for i in range(10,100):\n",
    "    y_pred5=[0 if x<(i/100) else 1 for x in y_prob5]\n",
    "    cost=calculate(y_test,y_pred5,3,1.3)\n",
    "    df_cost_table.loc[j]=[cost,i/100]\n",
    "    j+=1"
   ]
  },
  {
   "cell_type": "code",
   "execution_count": 136,
   "metadata": {},
   "outputs": [
    {
     "data": {
      "text/html": [
       "<div>\n",
       "<style scoped>\n",
       "    .dataframe tbody tr th:only-of-type {\n",
       "        vertical-align: middle;\n",
       "    }\n",
       "\n",
       "    .dataframe tbody tr th {\n",
       "        vertical-align: top;\n",
       "    }\n",
       "\n",
       "    .dataframe thead th {\n",
       "        text-align: right;\n",
       "    }\n",
       "</style>\n",
       "<table border=\"1\" class=\"dataframe\">\n",
       "  <thead>\n",
       "    <tr style=\"text-align: right;\">\n",
       "      <th></th>\n",
       "      <th>Total_Cost</th>\n",
       "      <th>cutoff</th>\n",
       "    </tr>\n",
       "  </thead>\n",
       "  <tbody>\n",
       "    <tr>\n",
       "      <th>16</th>\n",
       "      <td>346.1</td>\n",
       "      <td>0.26</td>\n",
       "    </tr>\n",
       "  </tbody>\n",
       "</table>\n",
       "</div>"
      ],
      "text/plain": [
       "    Total_Cost  cutoff\n",
       "16       346.1    0.26"
      ]
     },
     "execution_count": 136,
     "metadata": {},
     "output_type": "execute_result"
    }
   ],
   "source": [
    "df_cost_table[df_cost_table['Total_Cost']==df_cost_table['Total_Cost'].min()]"
   ]
  },
  {
   "cell_type": "code",
   "execution_count": null,
   "metadata": {},
   "outputs": [],
   "source": []
  }
 ],
 "metadata": {
  "kernelspec": {
   "display_name": "Python 3",
   "language": "python",
   "name": "python3"
  },
  "language_info": {
   "codemirror_mode": {
    "name": "ipython",
    "version": 3
   },
   "file_extension": ".py",
   "mimetype": "text/x-python",
   "name": "python",
   "nbconvert_exporter": "python",
   "pygments_lexer": "ipython3",
   "version": "3.8.5"
  }
 },
 "nbformat": 4,
 "nbformat_minor": 2
}
